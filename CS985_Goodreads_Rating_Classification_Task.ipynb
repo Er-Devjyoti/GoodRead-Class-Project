{
  "nbformat": 4,
  "nbformat_minor": 0,
  "metadata": {
    "colab": {
      "provenance": [],
      "include_colab_link": true
    },
    "kernelspec": {
      "name": "python3",
      "display_name": "Python 3"
    },
    "language_info": {
      "name": "python"
    },
    "gpuClass": "standard"
  },
  "cells": [
    {
      "cell_type": "markdown",
      "metadata": {
        "id": "view-in-github",
        "colab_type": "text"
      },
      "source": [
        "<a href=\"https://colab.research.google.com/github/Er-Devjyoti/GoodRead-Class-Project/blob/main/CS985_Goodreads_Rating_Classification_Task.ipynb\" target=\"_parent\"><img src=\"https://colab.research.google.com/assets/colab-badge.svg\" alt=\"Open In Colab\"/></a>"
      ]
    },
    {
      "cell_type": "markdown",
      "source": [
        "# CS985-Goodreads Rating Classification Task.-Group\n",
        "\n",
        "## Group 8: Devjyoti Das\n",
        "\n",
        "### Dataset Description:\n",
        "This dataset contains 900000 book reviews from about 25,475 books and 18,892 users , which is a review subset for spoiler detection, where each book/user has at least one associated spoiler review.\n",
        "The ratings are from 1 to 5.\n",
        "\n",
        "Files\n",
        "my_goodreads_train.csv - the training set\n",
        "my_goodreads_test.csv - the test set\n",
        "my_goodreads_sample_submission.csv - sample submission file\n",
        "Here are the columns of the dataset -\n",
        "\n",
        "user_id - Id of user\n",
        "book_id - Id of Book\n",
        "review_id - Id of review\n",
        "rating - rating from 1 to 5\n",
        "review_text - review text\n",
        "date_added - date added\n",
        "date_updated - date updated\n",
        "read_at - read at\n",
        "started_at - started at\n",
        "n_votes - no. of votes\n",
        "n_comments - no. of comments"
      ],
      "metadata": {
        "id": "ByUu27RW9lVb"
      }
    },
    {
      "cell_type": "markdown",
      "source": [
        "# Overview\n",
        "In this project, we implemented deep learning to estimate the books' ratings based on their text reviews and in order to categorise the evaluations into various rating levels, \n",
        "we integrated the different models from the standard ML Baseline, 3 layer Neural Networks, Deep Neural Network and the Complex Neural Networks such as the GRU, LSTM, and BERT (a transformer) \n",
        "which are forms of Recurrent neural Networks. After splitting the data, we pre-processed the data to remove the irrelevant information for each model and then evaluated their functionality.\n",
        "According to our research, the LSTM model performed better than every other model and this model is suggested for implementation in this activity. In order to improve performance, \n",
        "it is also advised to try further fine-tuning on said model.\n"
      ],
      "metadata": {
        "id": "HVkkXfdfJzOa"
      }
    },
    {
      "cell_type": "code",
      "execution_count": null,
      "metadata": {
        "id": "Jd_7fxIWAuae"
      },
      "outputs": [],
      "source": [
        "#importing the libraries\n",
        "import pandas as pd\n",
        "import numpy as np\n",
        "import pandas.compat\n",
        "from pandas.compat import *\n",
        "import keras\n",
        "from sklearn.feature_extraction.text import CountVectorizer\n",
        "from sklearn.feature_extraction.text import TfidfTransformer\n",
        "from sklearn.model_selection import train_test_split\n",
        "%tensorflow_version 2.x\n",
        "import tensorflow as tf\n",
        "from tensorflow import keras\n",
        "%load_ext tensorboard\n",
        "import re\n",
        "import string"
      ]
    },
    {
      "cell_type": "code",
      "source": [
        "# Importing the datasets for drive\n",
        "from google.colab import drive\n",
        "drive.mount('/content/drive')"
      ],
      "metadata": {
        "id": "24KRmnfXVYhz",
        "colab": {
          "base_uri": "https://localhost:8080/"
        },
        "outputId": "0ded0ae2-d6c4-4070-ee2c-97e3fd7e6bd6"
      },
      "execution_count": null,
      "outputs": [
        {
          "output_type": "stream",
          "name": "stdout",
          "text": [
            "Drive already mounted at /content/drive; to attempt to forcibly remount, call drive.mount(\"/content/drive\", force_remount=True).\n"
          ]
        }
      ]
    },
    {
      "cell_type": "code",
      "source": [
        "data = pd.read_csv(\"drive/MyDrive/mydata/my_goodreads_train.csv\")\n",
        "test = pd.read_csv(\"drive/MyDrive/mydata/my_goodreads_test.csv\")"
      ],
      "metadata": {
        "id": "FasCLfDKVeZO"
      },
      "execution_count": null,
      "outputs": []
    },
    {
      "cell_type": "code",
      "source": [
        "test.head()"
      ],
      "metadata": {
        "colab": {
          "base_uri": "https://localhost:8080/",
          "height": 634
        },
        "id": "zSe3BRxCt32Z",
        "outputId": "93cfda62-e9cc-4c1f-d847-8226bacba912"
      },
      "execution_count": null,
      "outputs": [
        {
          "output_type": "execute_result",
          "data": {
            "text/plain": [
              "   Unnamed: 0                            user_id    book_id  \\\n",
              "0        2212  11f7623a30dd3f47258dd9a4c806f6850   10439467   \n",
              "1      655187  1b700c4dfcecf272a3d18fea04d1a7f3a     129377   \n",
              "2      483724  1ad43768c54d2c2c2da810cbf052a3fff  176699581   \n",
              "3      322858  1f9214ec05446de0b96d8fe550d994baf   17792372   \n",
              "4      393932  1071b2047c229084b25a0e1fd51e0c698   18499966   \n",
              "\n",
              "                           review_id  \\\n",
              "0  16c32b9bb0142734c60f8b028f281c5dd   \n",
              "1  1f86ec340856f1097c922d33aed48d4ea   \n",
              "2  14a20b34f27611e45bd75e24de6a06324   \n",
              "3  1b2e5b069e4f440d152ae6d48e3f111ac   \n",
              "4  132aec4dfb13a2f8032a7431023dd728f   \n",
              "\n",
              "                                         review_text  \\\n",
              "0  3-3.5 stars \\n While I liked it, I didn't love...   \n",
              "1  First, I must fangirl over the ending. *OMG FA...   \n",
              "2  Somewhere between 4 and 5 - really loved this ...   \n",
              "3  I'll admit it - I was not expecting to enjoy t...   \n",
              "4  Book #25 of 2011 \\n I didn't read the accompyi...   \n",
              "\n",
              "                       date_added                    date_updated  \\\n",
              "0  Wed Oct 17 11:33:43 -0700 2012  Fri Feb 24 20:18:32 -0800 2017   \n",
              "1  Mon Mar 02 14:15:20 -0800 2015  Thu Jul 21 11:27:01 -0700 2016   \n",
              "2  Fri Oct 11 06:44:58 -0700 2013  Sun Aug 03 06:38:24 -0700 2014   \n",
              "3  Sat Apr 05 00:27:42 -0700 2014  Thu Apr 13 16:46:04 -0700 2017   \n",
              "4  Mon Mar 07 15:06:31 -0800 2011  Mon Mar 07 15:12:36 -0800 2011   \n",
              "\n",
              "                          read_at                      started_at  n_votes  \\\n",
              "0  Fri Feb 12 06:19:31 -0800 2016  Sat Feb 06 00:00:00 -0800 2016        1   \n",
              "1  Wed Apr 29 00:00:00 -0700 2015  Mon Apr 27 00:00:00 -0700 2015        0   \n",
              "2  Wed May 07 00:00:00 -0700 2014                             NaN        1   \n",
              "3  Mon Nov 23 03:44:34 -0800 2015  Thu Nov 05 00:00:00 -0800 2015        0   \n",
              "4  Tue Mar 01 00:00:00 -0800 2011                             NaN        0   \n",
              "\n",
              "   n_comments  \n",
              "0           0  \n",
              "1           0  \n",
              "2           0  \n",
              "3           0  \n",
              "4           0  "
            ],
            "text/html": [
              "\n",
              "  <div id=\"df-feed3567-5afd-4c82-a40d-c91c2fc38ae2\">\n",
              "    <div class=\"colab-df-container\">\n",
              "      <div>\n",
              "<style scoped>\n",
              "    .dataframe tbody tr th:only-of-type {\n",
              "        vertical-align: middle;\n",
              "    }\n",
              "\n",
              "    .dataframe tbody tr th {\n",
              "        vertical-align: top;\n",
              "    }\n",
              "\n",
              "    .dataframe thead th {\n",
              "        text-align: right;\n",
              "    }\n",
              "</style>\n",
              "<table border=\"1\" class=\"dataframe\">\n",
              "  <thead>\n",
              "    <tr style=\"text-align: right;\">\n",
              "      <th></th>\n",
              "      <th>Unnamed: 0</th>\n",
              "      <th>user_id</th>\n",
              "      <th>book_id</th>\n",
              "      <th>review_id</th>\n",
              "      <th>review_text</th>\n",
              "      <th>date_added</th>\n",
              "      <th>date_updated</th>\n",
              "      <th>read_at</th>\n",
              "      <th>started_at</th>\n",
              "      <th>n_votes</th>\n",
              "      <th>n_comments</th>\n",
              "    </tr>\n",
              "  </thead>\n",
              "  <tbody>\n",
              "    <tr>\n",
              "      <th>0</th>\n",
              "      <td>2212</td>\n",
              "      <td>11f7623a30dd3f47258dd9a4c806f6850</td>\n",
              "      <td>10439467</td>\n",
              "      <td>16c32b9bb0142734c60f8b028f281c5dd</td>\n",
              "      <td>3-3.5 stars \\n While I liked it, I didn't love...</td>\n",
              "      <td>Wed Oct 17 11:33:43 -0700 2012</td>\n",
              "      <td>Fri Feb 24 20:18:32 -0800 2017</td>\n",
              "      <td>Fri Feb 12 06:19:31 -0800 2016</td>\n",
              "      <td>Sat Feb 06 00:00:00 -0800 2016</td>\n",
              "      <td>1</td>\n",
              "      <td>0</td>\n",
              "    </tr>\n",
              "    <tr>\n",
              "      <th>1</th>\n",
              "      <td>655187</td>\n",
              "      <td>1b700c4dfcecf272a3d18fea04d1a7f3a</td>\n",
              "      <td>129377</td>\n",
              "      <td>1f86ec340856f1097c922d33aed48d4ea</td>\n",
              "      <td>First, I must fangirl over the ending. *OMG FA...</td>\n",
              "      <td>Mon Mar 02 14:15:20 -0800 2015</td>\n",
              "      <td>Thu Jul 21 11:27:01 -0700 2016</td>\n",
              "      <td>Wed Apr 29 00:00:00 -0700 2015</td>\n",
              "      <td>Mon Apr 27 00:00:00 -0700 2015</td>\n",
              "      <td>0</td>\n",
              "      <td>0</td>\n",
              "    </tr>\n",
              "    <tr>\n",
              "      <th>2</th>\n",
              "      <td>483724</td>\n",
              "      <td>1ad43768c54d2c2c2da810cbf052a3fff</td>\n",
              "      <td>176699581</td>\n",
              "      <td>14a20b34f27611e45bd75e24de6a06324</td>\n",
              "      <td>Somewhere between 4 and 5 - really loved this ...</td>\n",
              "      <td>Fri Oct 11 06:44:58 -0700 2013</td>\n",
              "      <td>Sun Aug 03 06:38:24 -0700 2014</td>\n",
              "      <td>Wed May 07 00:00:00 -0700 2014</td>\n",
              "      <td>NaN</td>\n",
              "      <td>1</td>\n",
              "      <td>0</td>\n",
              "    </tr>\n",
              "    <tr>\n",
              "      <th>3</th>\n",
              "      <td>322858</td>\n",
              "      <td>1f9214ec05446de0b96d8fe550d994baf</td>\n",
              "      <td>17792372</td>\n",
              "      <td>1b2e5b069e4f440d152ae6d48e3f111ac</td>\n",
              "      <td>I'll admit it - I was not expecting to enjoy t...</td>\n",
              "      <td>Sat Apr 05 00:27:42 -0700 2014</td>\n",
              "      <td>Thu Apr 13 16:46:04 -0700 2017</td>\n",
              "      <td>Mon Nov 23 03:44:34 -0800 2015</td>\n",
              "      <td>Thu Nov 05 00:00:00 -0800 2015</td>\n",
              "      <td>0</td>\n",
              "      <td>0</td>\n",
              "    </tr>\n",
              "    <tr>\n",
              "      <th>4</th>\n",
              "      <td>393932</td>\n",
              "      <td>1071b2047c229084b25a0e1fd51e0c698</td>\n",
              "      <td>18499966</td>\n",
              "      <td>132aec4dfb13a2f8032a7431023dd728f</td>\n",
              "      <td>Book #25 of 2011 \\n I didn't read the accompyi...</td>\n",
              "      <td>Mon Mar 07 15:06:31 -0800 2011</td>\n",
              "      <td>Mon Mar 07 15:12:36 -0800 2011</td>\n",
              "      <td>Tue Mar 01 00:00:00 -0800 2011</td>\n",
              "      <td>NaN</td>\n",
              "      <td>0</td>\n",
              "      <td>0</td>\n",
              "    </tr>\n",
              "  </tbody>\n",
              "</table>\n",
              "</div>\n",
              "      <button class=\"colab-df-convert\" onclick=\"convertToInteractive('df-feed3567-5afd-4c82-a40d-c91c2fc38ae2')\"\n",
              "              title=\"Convert this dataframe to an interactive table.\"\n",
              "              style=\"display:none;\">\n",
              "        \n",
              "  <svg xmlns=\"http://www.w3.org/2000/svg\" height=\"24px\"viewBox=\"0 0 24 24\"\n",
              "       width=\"24px\">\n",
              "    <path d=\"M0 0h24v24H0V0z\" fill=\"none\"/>\n",
              "    <path d=\"M18.56 5.44l.94 2.06.94-2.06 2.06-.94-2.06-.94-.94-2.06-.94 2.06-2.06.94zm-11 1L8.5 8.5l.94-2.06 2.06-.94-2.06-.94L8.5 2.5l-.94 2.06-2.06.94zm10 10l.94 2.06.94-2.06 2.06-.94-2.06-.94-.94-2.06-.94 2.06-2.06.94z\"/><path d=\"M17.41 7.96l-1.37-1.37c-.4-.4-.92-.59-1.43-.59-.52 0-1.04.2-1.43.59L10.3 9.45l-7.72 7.72c-.78.78-.78 2.05 0 2.83L4 21.41c.39.39.9.59 1.41.59.51 0 1.02-.2 1.41-.59l7.78-7.78 2.81-2.81c.8-.78.8-2.07 0-2.86zM5.41 20L4 18.59l7.72-7.72 1.47 1.35L5.41 20z\"/>\n",
              "  </svg>\n",
              "      </button>\n",
              "      \n",
              "  <style>\n",
              "    .colab-df-container {\n",
              "      display:flex;\n",
              "      flex-wrap:wrap;\n",
              "      gap: 12px;\n",
              "    }\n",
              "\n",
              "    .colab-df-convert {\n",
              "      background-color: #E8F0FE;\n",
              "      border: none;\n",
              "      border-radius: 50%;\n",
              "      cursor: pointer;\n",
              "      display: none;\n",
              "      fill: #1967D2;\n",
              "      height: 32px;\n",
              "      padding: 0 0 0 0;\n",
              "      width: 32px;\n",
              "    }\n",
              "\n",
              "    .colab-df-convert:hover {\n",
              "      background-color: #E2EBFA;\n",
              "      box-shadow: 0px 1px 2px rgba(60, 64, 67, 0.3), 0px 1px 3px 1px rgba(60, 64, 67, 0.15);\n",
              "      fill: #174EA6;\n",
              "    }\n",
              "\n",
              "    [theme=dark] .colab-df-convert {\n",
              "      background-color: #3B4455;\n",
              "      fill: #D2E3FC;\n",
              "    }\n",
              "\n",
              "    [theme=dark] .colab-df-convert:hover {\n",
              "      background-color: #434B5C;\n",
              "      box-shadow: 0px 1px 3px 1px rgba(0, 0, 0, 0.15);\n",
              "      filter: drop-shadow(0px 1px 2px rgba(0, 0, 0, 0.3));\n",
              "      fill: #FFFFFF;\n",
              "    }\n",
              "  </style>\n",
              "\n",
              "      <script>\n",
              "        const buttonEl =\n",
              "          document.querySelector('#df-feed3567-5afd-4c82-a40d-c91c2fc38ae2 button.colab-df-convert');\n",
              "        buttonEl.style.display =\n",
              "          google.colab.kernel.accessAllowed ? 'block' : 'none';\n",
              "\n",
              "        async function convertToInteractive(key) {\n",
              "          const element = document.querySelector('#df-feed3567-5afd-4c82-a40d-c91c2fc38ae2');\n",
              "          const dataTable =\n",
              "            await google.colab.kernel.invokeFunction('convertToInteractive',\n",
              "                                                     [key], {});\n",
              "          if (!dataTable) return;\n",
              "\n",
              "          const docLinkHtml = 'Like what you see? Visit the ' +\n",
              "            '<a target=\"_blank\" href=https://colab.research.google.com/notebooks/data_table.ipynb>data table notebook</a>'\n",
              "            + ' to learn more about interactive tables.';\n",
              "          element.innerHTML = '';\n",
              "          dataTable['output_type'] = 'display_data';\n",
              "          await google.colab.output.renderOutput(dataTable, element);\n",
              "          const docLink = document.createElement('div');\n",
              "          docLink.innerHTML = docLinkHtml;\n",
              "          element.appendChild(docLink);\n",
              "        }\n",
              "      </script>\n",
              "    </div>\n",
              "  </div>\n",
              "  "
            ]
          },
          "metadata": {},
          "execution_count": 4
        }
      ]
    },
    {
      "cell_type": "code",
      "source": [
        "test.shape"
      ],
      "metadata": {
        "colab": {
          "base_uri": "https://localhost:8080/"
        },
        "id": "LUr085vfuaVb",
        "outputId": "9d3a5b0e-4bf9-4f42-a50c-4e0937f9ae96"
      },
      "execution_count": null,
      "outputs": [
        {
          "output_type": "execute_result",
          "data": {
            "text/plain": [
              "(200000, 11)"
            ]
          },
          "metadata": {},
          "execution_count": 5
        }
      ]
    },
    {
      "cell_type": "code",
      "source": [
        "\n",
        "data.head()"
      ],
      "metadata": {
        "colab": {
          "base_uri": "https://localhost:8080/",
          "height": 617
        },
        "id": "wGGEQWGBueSZ",
        "outputId": "ab074e91-6bac-4142-f079-2de03bb03e4a"
      },
      "execution_count": null,
      "outputs": [
        {
          "output_type": "execute_result",
          "data": {
            "text/plain": [
              "                             user_id    book_id  \\\n",
              "0  1da3dcc13cf360b9ecb06251e86237535  182091851   \n",
              "1  1ae436441b6153473ef907aed1006a159    1451461   \n",
              "2  1aa5e9d859b0c0737f4b99a07edf19c88   13483572   \n",
              "3  1940c22aba67c3d49ccd37891c52c9f51  131585171   \n",
              "4  15e03534fccd0e7e1849d712ab9e44342  195643271   \n",
              "\n",
              "                           review_id  rating  \\\n",
              "0  1c949b5dedf860514ec8b97ad158c9f4f       5   \n",
              "1  112ee86a20d7e4308c0a054f8b03128cd       5   \n",
              "2  1253729b67f301b75a0f26e85f6d6fb31       5   \n",
              "3  1ae0005e94dce0dc5c18d6ae2b4a329ab       4   \n",
              "4  1d8357d2abdcc656635c5459c1feec761       3   \n",
              "\n",
              "                                         review_text  \\\n",
              "0  I thought this was a very good historical fant...   \n",
              "1  I've had this book recommended to me more than...   \n",
              "2  Seriously! You go and throw that twist into th...   \n",
              "3  Gosh!!! I'm still not recovering from the effi...   \n",
              "4  3.5 stars rounded down. I can't help it, I jus...   \n",
              "\n",
              "                       date_added                    date_updated  \\\n",
              "0  Fri Feb 01 16:44:16 -0800 2013  Tue Oct 25 18:49:25 -0700 2016   \n",
              "1  Sun Nov 08 12:10:16 -0800 2015  Sun Nov 08 12:24:59 -0800 2015   \n",
              "2  Wed Oct 10 02:07:19 -0700 2012  Sat Apr 27 00:40:19 -0700 2013   \n",
              "3  Thu Dec 05 00:45:29 -0800 2013  Thu Dec 05 00:50:17 -0800 2013   \n",
              "4  Wed Mar 15 18:08:14 -0700 2017  Wed Jul 05 12:55:32 -0700 2017   \n",
              "\n",
              "                          read_at                      started_at  n_votes  \\\n",
              "0  Sat May 04 00:00:00 -0700 2013  Thu Apr 25 00:00:00 -0700 2013        5   \n",
              "1  Tue May 05 00:00:00 -0700 2015  Sun May 03 00:00:00 -0700 2015        0   \n",
              "2  Sat Apr 27 00:40:19 -0700 2013  Thu Apr 25 00:00:00 -0700 2013        0   \n",
              "3  Thu Dec 05 00:50:17 -0800 2013  Wed Dec 04 00:00:00 -0800 2013        5   \n",
              "4  Wed Apr 12 12:17:07 -0700 2017  Tue Apr 11 00:00:00 -0700 2017        0   \n",
              "\n",
              "   n_comments  \n",
              "0           6  \n",
              "1           0  \n",
              "2           0  \n",
              "3           0  \n",
              "4           0  "
            ],
            "text/html": [
              "\n",
              "  <div id=\"df-2c04f351-0911-4bc1-a369-05d4f2d5eed9\">\n",
              "    <div class=\"colab-df-container\">\n",
              "      <div>\n",
              "<style scoped>\n",
              "    .dataframe tbody tr th:only-of-type {\n",
              "        vertical-align: middle;\n",
              "    }\n",
              "\n",
              "    .dataframe tbody tr th {\n",
              "        vertical-align: top;\n",
              "    }\n",
              "\n",
              "    .dataframe thead th {\n",
              "        text-align: right;\n",
              "    }\n",
              "</style>\n",
              "<table border=\"1\" class=\"dataframe\">\n",
              "  <thead>\n",
              "    <tr style=\"text-align: right;\">\n",
              "      <th></th>\n",
              "      <th>user_id</th>\n",
              "      <th>book_id</th>\n",
              "      <th>review_id</th>\n",
              "      <th>rating</th>\n",
              "      <th>review_text</th>\n",
              "      <th>date_added</th>\n",
              "      <th>date_updated</th>\n",
              "      <th>read_at</th>\n",
              "      <th>started_at</th>\n",
              "      <th>n_votes</th>\n",
              "      <th>n_comments</th>\n",
              "    </tr>\n",
              "  </thead>\n",
              "  <tbody>\n",
              "    <tr>\n",
              "      <th>0</th>\n",
              "      <td>1da3dcc13cf360b9ecb06251e86237535</td>\n",
              "      <td>182091851</td>\n",
              "      <td>1c949b5dedf860514ec8b97ad158c9f4f</td>\n",
              "      <td>5</td>\n",
              "      <td>I thought this was a very good historical fant...</td>\n",
              "      <td>Fri Feb 01 16:44:16 -0800 2013</td>\n",
              "      <td>Tue Oct 25 18:49:25 -0700 2016</td>\n",
              "      <td>Sat May 04 00:00:00 -0700 2013</td>\n",
              "      <td>Thu Apr 25 00:00:00 -0700 2013</td>\n",
              "      <td>5</td>\n",
              "      <td>6</td>\n",
              "    </tr>\n",
              "    <tr>\n",
              "      <th>1</th>\n",
              "      <td>1ae436441b6153473ef907aed1006a159</td>\n",
              "      <td>1451461</td>\n",
              "      <td>112ee86a20d7e4308c0a054f8b03128cd</td>\n",
              "      <td>5</td>\n",
              "      <td>I've had this book recommended to me more than...</td>\n",
              "      <td>Sun Nov 08 12:10:16 -0800 2015</td>\n",
              "      <td>Sun Nov 08 12:24:59 -0800 2015</td>\n",
              "      <td>Tue May 05 00:00:00 -0700 2015</td>\n",
              "      <td>Sun May 03 00:00:00 -0700 2015</td>\n",
              "      <td>0</td>\n",
              "      <td>0</td>\n",
              "    </tr>\n",
              "    <tr>\n",
              "      <th>2</th>\n",
              "      <td>1aa5e9d859b0c0737f4b99a07edf19c88</td>\n",
              "      <td>13483572</td>\n",
              "      <td>1253729b67f301b75a0f26e85f6d6fb31</td>\n",
              "      <td>5</td>\n",
              "      <td>Seriously! You go and throw that twist into th...</td>\n",
              "      <td>Wed Oct 10 02:07:19 -0700 2012</td>\n",
              "      <td>Sat Apr 27 00:40:19 -0700 2013</td>\n",
              "      <td>Sat Apr 27 00:40:19 -0700 2013</td>\n",
              "      <td>Thu Apr 25 00:00:00 -0700 2013</td>\n",
              "      <td>0</td>\n",
              "      <td>0</td>\n",
              "    </tr>\n",
              "    <tr>\n",
              "      <th>3</th>\n",
              "      <td>1940c22aba67c3d49ccd37891c52c9f51</td>\n",
              "      <td>131585171</td>\n",
              "      <td>1ae0005e94dce0dc5c18d6ae2b4a329ab</td>\n",
              "      <td>4</td>\n",
              "      <td>Gosh!!! I'm still not recovering from the effi...</td>\n",
              "      <td>Thu Dec 05 00:45:29 -0800 2013</td>\n",
              "      <td>Thu Dec 05 00:50:17 -0800 2013</td>\n",
              "      <td>Thu Dec 05 00:50:17 -0800 2013</td>\n",
              "      <td>Wed Dec 04 00:00:00 -0800 2013</td>\n",
              "      <td>5</td>\n",
              "      <td>0</td>\n",
              "    </tr>\n",
              "    <tr>\n",
              "      <th>4</th>\n",
              "      <td>15e03534fccd0e7e1849d712ab9e44342</td>\n",
              "      <td>195643271</td>\n",
              "      <td>1d8357d2abdcc656635c5459c1feec761</td>\n",
              "      <td>3</td>\n",
              "      <td>3.5 stars rounded down. I can't help it, I jus...</td>\n",
              "      <td>Wed Mar 15 18:08:14 -0700 2017</td>\n",
              "      <td>Wed Jul 05 12:55:32 -0700 2017</td>\n",
              "      <td>Wed Apr 12 12:17:07 -0700 2017</td>\n",
              "      <td>Tue Apr 11 00:00:00 -0700 2017</td>\n",
              "      <td>0</td>\n",
              "      <td>0</td>\n",
              "    </tr>\n",
              "  </tbody>\n",
              "</table>\n",
              "</div>\n",
              "      <button class=\"colab-df-convert\" onclick=\"convertToInteractive('df-2c04f351-0911-4bc1-a369-05d4f2d5eed9')\"\n",
              "              title=\"Convert this dataframe to an interactive table.\"\n",
              "              style=\"display:none;\">\n",
              "        \n",
              "  <svg xmlns=\"http://www.w3.org/2000/svg\" height=\"24px\"viewBox=\"0 0 24 24\"\n",
              "       width=\"24px\">\n",
              "    <path d=\"M0 0h24v24H0V0z\" fill=\"none\"/>\n",
              "    <path d=\"M18.56 5.44l.94 2.06.94-2.06 2.06-.94-2.06-.94-.94-2.06-.94 2.06-2.06.94zm-11 1L8.5 8.5l.94-2.06 2.06-.94-2.06-.94L8.5 2.5l-.94 2.06-2.06.94zm10 10l.94 2.06.94-2.06 2.06-.94-2.06-.94-.94-2.06-.94 2.06-2.06.94z\"/><path d=\"M17.41 7.96l-1.37-1.37c-.4-.4-.92-.59-1.43-.59-.52 0-1.04.2-1.43.59L10.3 9.45l-7.72 7.72c-.78.78-.78 2.05 0 2.83L4 21.41c.39.39.9.59 1.41.59.51 0 1.02-.2 1.41-.59l7.78-7.78 2.81-2.81c.8-.78.8-2.07 0-2.86zM5.41 20L4 18.59l7.72-7.72 1.47 1.35L5.41 20z\"/>\n",
              "  </svg>\n",
              "      </button>\n",
              "      \n",
              "  <style>\n",
              "    .colab-df-container {\n",
              "      display:flex;\n",
              "      flex-wrap:wrap;\n",
              "      gap: 12px;\n",
              "    }\n",
              "\n",
              "    .colab-df-convert {\n",
              "      background-color: #E8F0FE;\n",
              "      border: none;\n",
              "      border-radius: 50%;\n",
              "      cursor: pointer;\n",
              "      display: none;\n",
              "      fill: #1967D2;\n",
              "      height: 32px;\n",
              "      padding: 0 0 0 0;\n",
              "      width: 32px;\n",
              "    }\n",
              "\n",
              "    .colab-df-convert:hover {\n",
              "      background-color: #E2EBFA;\n",
              "      box-shadow: 0px 1px 2px rgba(60, 64, 67, 0.3), 0px 1px 3px 1px rgba(60, 64, 67, 0.15);\n",
              "      fill: #174EA6;\n",
              "    }\n",
              "\n",
              "    [theme=dark] .colab-df-convert {\n",
              "      background-color: #3B4455;\n",
              "      fill: #D2E3FC;\n",
              "    }\n",
              "\n",
              "    [theme=dark] .colab-df-convert:hover {\n",
              "      background-color: #434B5C;\n",
              "      box-shadow: 0px 1px 3px 1px rgba(0, 0, 0, 0.15);\n",
              "      filter: drop-shadow(0px 1px 2px rgba(0, 0, 0, 0.3));\n",
              "      fill: #FFFFFF;\n",
              "    }\n",
              "  </style>\n",
              "\n",
              "      <script>\n",
              "        const buttonEl =\n",
              "          document.querySelector('#df-2c04f351-0911-4bc1-a369-05d4f2d5eed9 button.colab-df-convert');\n",
              "        buttonEl.style.display =\n",
              "          google.colab.kernel.accessAllowed ? 'block' : 'none';\n",
              "\n",
              "        async function convertToInteractive(key) {\n",
              "          const element = document.querySelector('#df-2c04f351-0911-4bc1-a369-05d4f2d5eed9');\n",
              "          const dataTable =\n",
              "            await google.colab.kernel.invokeFunction('convertToInteractive',\n",
              "                                                     [key], {});\n",
              "          if (!dataTable) return;\n",
              "\n",
              "          const docLinkHtml = 'Like what you see? Visit the ' +\n",
              "            '<a target=\"_blank\" href=https://colab.research.google.com/notebooks/data_table.ipynb>data table notebook</a>'\n",
              "            + ' to learn more about interactive tables.';\n",
              "          element.innerHTML = '';\n",
              "          dataTable['output_type'] = 'display_data';\n",
              "          await google.colab.output.renderOutput(dataTable, element);\n",
              "          const docLink = document.createElement('div');\n",
              "          docLink.innerHTML = docLinkHtml;\n",
              "          element.appendChild(docLink);\n",
              "        }\n",
              "      </script>\n",
              "    </div>\n",
              "  </div>\n",
              "  "
            ]
          },
          "metadata": {},
          "execution_count": 6
        }
      ]
    },
    {
      "cell_type": "code",
      "source": [
        "data.shape"
      ],
      "metadata": {
        "id": "4M9s9DyFXsMk",
        "colab": {
          "base_uri": "https://localhost:8080/"
        },
        "outputId": "73001b2c-b815-43a6-98d7-63249cdc19bf"
      },
      "execution_count": null,
      "outputs": [
        {
          "output_type": "execute_result",
          "data": {
            "text/plain": [
              "(700000, 11)"
            ]
          },
          "metadata": {},
          "execution_count": 7
        }
      ]
    },
    {
      "cell_type": "code",
      "source": [
        "data.info()"
      ],
      "metadata": {
        "colab": {
          "base_uri": "https://localhost:8080/"
        },
        "id": "iRuT40cWio6o",
        "outputId": "4b3d1500-a1f4-4b7c-b46e-72bf75398035"
      },
      "execution_count": null,
      "outputs": [
        {
          "output_type": "stream",
          "name": "stdout",
          "text": [
            "<class 'pandas.core.frame.DataFrame'>\n",
            "RangeIndex: 700000 entries, 0 to 699999\n",
            "Data columns (total 11 columns):\n",
            " #   Column        Non-Null Count   Dtype \n",
            "---  ------        --------------   ----- \n",
            " 0   user_id       700000 non-null  object\n",
            " 1   book_id       700000 non-null  int64 \n",
            " 2   review_id     700000 non-null  object\n",
            " 3   rating        700000 non-null  int64 \n",
            " 4   review_text   700000 non-null  object\n",
            " 5   date_added    700000 non-null  object\n",
            " 6   date_updated  700000 non-null  object\n",
            " 7   read_at       628588 non-null  object\n",
            " 8   started_at    486589 non-null  object\n",
            " 9   n_votes       700000 non-null  int64 \n",
            " 10  n_comments    700000 non-null  int64 \n",
            "dtypes: int64(4), object(7)\n",
            "memory usage: 58.7+ MB\n"
          ]
        }
      ]
    },
    {
      "cell_type": "code",
      "source": [
        "data.head()"
      ],
      "metadata": {
        "colab": {
          "base_uri": "https://localhost:8080/",
          "height": 617
        },
        "id": "olWt_lXli2KS",
        "outputId": "834f12d5-4c79-4479-c1d2-1583ed7173b4"
      },
      "execution_count": null,
      "outputs": [
        {
          "output_type": "execute_result",
          "data": {
            "text/plain": [
              "                             user_id    book_id  \\\n",
              "0  1da3dcc13cf360b9ecb06251e86237535  182091851   \n",
              "1  1ae436441b6153473ef907aed1006a159    1451461   \n",
              "2  1aa5e9d859b0c0737f4b99a07edf19c88   13483572   \n",
              "3  1940c22aba67c3d49ccd37891c52c9f51  131585171   \n",
              "4  15e03534fccd0e7e1849d712ab9e44342  195643271   \n",
              "\n",
              "                           review_id  rating  \\\n",
              "0  1c949b5dedf860514ec8b97ad158c9f4f       5   \n",
              "1  112ee86a20d7e4308c0a054f8b03128cd       5   \n",
              "2  1253729b67f301b75a0f26e85f6d6fb31       5   \n",
              "3  1ae0005e94dce0dc5c18d6ae2b4a329ab       4   \n",
              "4  1d8357d2abdcc656635c5459c1feec761       3   \n",
              "\n",
              "                                         review_text  \\\n",
              "0  I thought this was a very good historical fant...   \n",
              "1  I've had this book recommended to me more than...   \n",
              "2  Seriously! You go and throw that twist into th...   \n",
              "3  Gosh!!! I'm still not recovering from the effi...   \n",
              "4  3.5 stars rounded down. I can't help it, I jus...   \n",
              "\n",
              "                       date_added                    date_updated  \\\n",
              "0  Fri Feb 01 16:44:16 -0800 2013  Tue Oct 25 18:49:25 -0700 2016   \n",
              "1  Sun Nov 08 12:10:16 -0800 2015  Sun Nov 08 12:24:59 -0800 2015   \n",
              "2  Wed Oct 10 02:07:19 -0700 2012  Sat Apr 27 00:40:19 -0700 2013   \n",
              "3  Thu Dec 05 00:45:29 -0800 2013  Thu Dec 05 00:50:17 -0800 2013   \n",
              "4  Wed Mar 15 18:08:14 -0700 2017  Wed Jul 05 12:55:32 -0700 2017   \n",
              "\n",
              "                          read_at                      started_at  n_votes  \\\n",
              "0  Sat May 04 00:00:00 -0700 2013  Thu Apr 25 00:00:00 -0700 2013        5   \n",
              "1  Tue May 05 00:00:00 -0700 2015  Sun May 03 00:00:00 -0700 2015        0   \n",
              "2  Sat Apr 27 00:40:19 -0700 2013  Thu Apr 25 00:00:00 -0700 2013        0   \n",
              "3  Thu Dec 05 00:50:17 -0800 2013  Wed Dec 04 00:00:00 -0800 2013        5   \n",
              "4  Wed Apr 12 12:17:07 -0700 2017  Tue Apr 11 00:00:00 -0700 2017        0   \n",
              "\n",
              "   n_comments  \n",
              "0           6  \n",
              "1           0  \n",
              "2           0  \n",
              "3           0  \n",
              "4           0  "
            ],
            "text/html": [
              "\n",
              "  <div id=\"df-8666d75d-4e4c-40f7-83a0-c19b1f771bde\">\n",
              "    <div class=\"colab-df-container\">\n",
              "      <div>\n",
              "<style scoped>\n",
              "    .dataframe tbody tr th:only-of-type {\n",
              "        vertical-align: middle;\n",
              "    }\n",
              "\n",
              "    .dataframe tbody tr th {\n",
              "        vertical-align: top;\n",
              "    }\n",
              "\n",
              "    .dataframe thead th {\n",
              "        text-align: right;\n",
              "    }\n",
              "</style>\n",
              "<table border=\"1\" class=\"dataframe\">\n",
              "  <thead>\n",
              "    <tr style=\"text-align: right;\">\n",
              "      <th></th>\n",
              "      <th>user_id</th>\n",
              "      <th>book_id</th>\n",
              "      <th>review_id</th>\n",
              "      <th>rating</th>\n",
              "      <th>review_text</th>\n",
              "      <th>date_added</th>\n",
              "      <th>date_updated</th>\n",
              "      <th>read_at</th>\n",
              "      <th>started_at</th>\n",
              "      <th>n_votes</th>\n",
              "      <th>n_comments</th>\n",
              "    </tr>\n",
              "  </thead>\n",
              "  <tbody>\n",
              "    <tr>\n",
              "      <th>0</th>\n",
              "      <td>1da3dcc13cf360b9ecb06251e86237535</td>\n",
              "      <td>182091851</td>\n",
              "      <td>1c949b5dedf860514ec8b97ad158c9f4f</td>\n",
              "      <td>5</td>\n",
              "      <td>I thought this was a very good historical fant...</td>\n",
              "      <td>Fri Feb 01 16:44:16 -0800 2013</td>\n",
              "      <td>Tue Oct 25 18:49:25 -0700 2016</td>\n",
              "      <td>Sat May 04 00:00:00 -0700 2013</td>\n",
              "      <td>Thu Apr 25 00:00:00 -0700 2013</td>\n",
              "      <td>5</td>\n",
              "      <td>6</td>\n",
              "    </tr>\n",
              "    <tr>\n",
              "      <th>1</th>\n",
              "      <td>1ae436441b6153473ef907aed1006a159</td>\n",
              "      <td>1451461</td>\n",
              "      <td>112ee86a20d7e4308c0a054f8b03128cd</td>\n",
              "      <td>5</td>\n",
              "      <td>I've had this book recommended to me more than...</td>\n",
              "      <td>Sun Nov 08 12:10:16 -0800 2015</td>\n",
              "      <td>Sun Nov 08 12:24:59 -0800 2015</td>\n",
              "      <td>Tue May 05 00:00:00 -0700 2015</td>\n",
              "      <td>Sun May 03 00:00:00 -0700 2015</td>\n",
              "      <td>0</td>\n",
              "      <td>0</td>\n",
              "    </tr>\n",
              "    <tr>\n",
              "      <th>2</th>\n",
              "      <td>1aa5e9d859b0c0737f4b99a07edf19c88</td>\n",
              "      <td>13483572</td>\n",
              "      <td>1253729b67f301b75a0f26e85f6d6fb31</td>\n",
              "      <td>5</td>\n",
              "      <td>Seriously! You go and throw that twist into th...</td>\n",
              "      <td>Wed Oct 10 02:07:19 -0700 2012</td>\n",
              "      <td>Sat Apr 27 00:40:19 -0700 2013</td>\n",
              "      <td>Sat Apr 27 00:40:19 -0700 2013</td>\n",
              "      <td>Thu Apr 25 00:00:00 -0700 2013</td>\n",
              "      <td>0</td>\n",
              "      <td>0</td>\n",
              "    </tr>\n",
              "    <tr>\n",
              "      <th>3</th>\n",
              "      <td>1940c22aba67c3d49ccd37891c52c9f51</td>\n",
              "      <td>131585171</td>\n",
              "      <td>1ae0005e94dce0dc5c18d6ae2b4a329ab</td>\n",
              "      <td>4</td>\n",
              "      <td>Gosh!!! I'm still not recovering from the effi...</td>\n",
              "      <td>Thu Dec 05 00:45:29 -0800 2013</td>\n",
              "      <td>Thu Dec 05 00:50:17 -0800 2013</td>\n",
              "      <td>Thu Dec 05 00:50:17 -0800 2013</td>\n",
              "      <td>Wed Dec 04 00:00:00 -0800 2013</td>\n",
              "      <td>5</td>\n",
              "      <td>0</td>\n",
              "    </tr>\n",
              "    <tr>\n",
              "      <th>4</th>\n",
              "      <td>15e03534fccd0e7e1849d712ab9e44342</td>\n",
              "      <td>195643271</td>\n",
              "      <td>1d8357d2abdcc656635c5459c1feec761</td>\n",
              "      <td>3</td>\n",
              "      <td>3.5 stars rounded down. I can't help it, I jus...</td>\n",
              "      <td>Wed Mar 15 18:08:14 -0700 2017</td>\n",
              "      <td>Wed Jul 05 12:55:32 -0700 2017</td>\n",
              "      <td>Wed Apr 12 12:17:07 -0700 2017</td>\n",
              "      <td>Tue Apr 11 00:00:00 -0700 2017</td>\n",
              "      <td>0</td>\n",
              "      <td>0</td>\n",
              "    </tr>\n",
              "  </tbody>\n",
              "</table>\n",
              "</div>\n",
              "      <button class=\"colab-df-convert\" onclick=\"convertToInteractive('df-8666d75d-4e4c-40f7-83a0-c19b1f771bde')\"\n",
              "              title=\"Convert this dataframe to an interactive table.\"\n",
              "              style=\"display:none;\">\n",
              "        \n",
              "  <svg xmlns=\"http://www.w3.org/2000/svg\" height=\"24px\"viewBox=\"0 0 24 24\"\n",
              "       width=\"24px\">\n",
              "    <path d=\"M0 0h24v24H0V0z\" fill=\"none\"/>\n",
              "    <path d=\"M18.56 5.44l.94 2.06.94-2.06 2.06-.94-2.06-.94-.94-2.06-.94 2.06-2.06.94zm-11 1L8.5 8.5l.94-2.06 2.06-.94-2.06-.94L8.5 2.5l-.94 2.06-2.06.94zm10 10l.94 2.06.94-2.06 2.06-.94-2.06-.94-.94-2.06-.94 2.06-2.06.94z\"/><path d=\"M17.41 7.96l-1.37-1.37c-.4-.4-.92-.59-1.43-.59-.52 0-1.04.2-1.43.59L10.3 9.45l-7.72 7.72c-.78.78-.78 2.05 0 2.83L4 21.41c.39.39.9.59 1.41.59.51 0 1.02-.2 1.41-.59l7.78-7.78 2.81-2.81c.8-.78.8-2.07 0-2.86zM5.41 20L4 18.59l7.72-7.72 1.47 1.35L5.41 20z\"/>\n",
              "  </svg>\n",
              "      </button>\n",
              "      \n",
              "  <style>\n",
              "    .colab-df-container {\n",
              "      display:flex;\n",
              "      flex-wrap:wrap;\n",
              "      gap: 12px;\n",
              "    }\n",
              "\n",
              "    .colab-df-convert {\n",
              "      background-color: #E8F0FE;\n",
              "      border: none;\n",
              "      border-radius: 50%;\n",
              "      cursor: pointer;\n",
              "      display: none;\n",
              "      fill: #1967D2;\n",
              "      height: 32px;\n",
              "      padding: 0 0 0 0;\n",
              "      width: 32px;\n",
              "    }\n",
              "\n",
              "    .colab-df-convert:hover {\n",
              "      background-color: #E2EBFA;\n",
              "      box-shadow: 0px 1px 2px rgba(60, 64, 67, 0.3), 0px 1px 3px 1px rgba(60, 64, 67, 0.15);\n",
              "      fill: #174EA6;\n",
              "    }\n",
              "\n",
              "    [theme=dark] .colab-df-convert {\n",
              "      background-color: #3B4455;\n",
              "      fill: #D2E3FC;\n",
              "    }\n",
              "\n",
              "    [theme=dark] .colab-df-convert:hover {\n",
              "      background-color: #434B5C;\n",
              "      box-shadow: 0px 1px 3px 1px rgba(0, 0, 0, 0.15);\n",
              "      filter: drop-shadow(0px 1px 2px rgba(0, 0, 0, 0.3));\n",
              "      fill: #FFFFFF;\n",
              "    }\n",
              "  </style>\n",
              "\n",
              "      <script>\n",
              "        const buttonEl =\n",
              "          document.querySelector('#df-8666d75d-4e4c-40f7-83a0-c19b1f771bde button.colab-df-convert');\n",
              "        buttonEl.style.display =\n",
              "          google.colab.kernel.accessAllowed ? 'block' : 'none';\n",
              "\n",
              "        async function convertToInteractive(key) {\n",
              "          const element = document.querySelector('#df-8666d75d-4e4c-40f7-83a0-c19b1f771bde');\n",
              "          const dataTable =\n",
              "            await google.colab.kernel.invokeFunction('convertToInteractive',\n",
              "                                                     [key], {});\n",
              "          if (!dataTable) return;\n",
              "\n",
              "          const docLinkHtml = 'Like what you see? Visit the ' +\n",
              "            '<a target=\"_blank\" href=https://colab.research.google.com/notebooks/data_table.ipynb>data table notebook</a>'\n",
              "            + ' to learn more about interactive tables.';\n",
              "          element.innerHTML = '';\n",
              "          dataTable['output_type'] = 'display_data';\n",
              "          await google.colab.output.renderOutput(dataTable, element);\n",
              "          const docLink = document.createElement('div');\n",
              "          docLink.innerHTML = docLinkHtml;\n",
              "          element.appendChild(docLink);\n",
              "        }\n",
              "      </script>\n",
              "    </div>\n",
              "  </div>\n",
              "  "
            ]
          },
          "metadata": {},
          "execution_count": 9
        }
      ]
    },
    {
      "cell_type": "code",
      "source": [
        "# Working with the relevant attributes\n",
        "data1 = pd.concat([data.review_text, test.review_text], axis=0)\n",
        "data1.shape"
      ],
      "metadata": {
        "colab": {
          "base_uri": "https://localhost:8080/"
        },
        "id": "u6NUbHnCHZ1v",
        "outputId": "09d13072-fa1f-457b-b113-6f12e083e1de"
      },
      "execution_count": null,
      "outputs": [
        {
          "output_type": "execute_result",
          "data": {
            "text/plain": [
              "(900000,)"
            ]
          },
          "metadata": {},
          "execution_count": 10
        }
      ]
    },
    {
      "cell_type": "code",
      "source": [
        "data1 = pd.DataFrame(data1)\n",
        "data1"
      ],
      "metadata": {
        "colab": {
          "base_uri": "https://localhost:8080/",
          "height": 423
        },
        "id": "3No8jiduAMtb",
        "outputId": "4d26ca75-da9f-4a7b-d36c-572ac36888ed"
      },
      "execution_count": null,
      "outputs": [
        {
          "output_type": "execute_result",
          "data": {
            "text/plain": [
              "                                              review_text\n",
              "0       I thought this was a very good historical fant...\n",
              "1       I've had this book recommended to me more than...\n",
              "2       Seriously! You go and throw that twist into th...\n",
              "3       Gosh!!! I'm still not recovering from the effi...\n",
              "4       3.5 stars rounded down. I can't help it, I jus...\n",
              "...                                                   ...\n",
              "199995  ** sp01l3r al3rt ** \\n I reeeeeally liked CoLS...\n",
              "199996  I do like this book, although, like many other...\n",
              "199997  Eh. Read my full review at http://yalitwit.blo...\n",
              "199998  I really liked this book! I was angry with som...\n",
              "199999  This is a ridiculously fun book. The action is...\n",
              "\n",
              "[900000 rows x 1 columns]"
            ],
            "text/html": [
              "\n",
              "  <div id=\"df-2eb41e21-c35a-4951-98e0-c67426b55e3c\">\n",
              "    <div class=\"colab-df-container\">\n",
              "      <div>\n",
              "<style scoped>\n",
              "    .dataframe tbody tr th:only-of-type {\n",
              "        vertical-align: middle;\n",
              "    }\n",
              "\n",
              "    .dataframe tbody tr th {\n",
              "        vertical-align: top;\n",
              "    }\n",
              "\n",
              "    .dataframe thead th {\n",
              "        text-align: right;\n",
              "    }\n",
              "</style>\n",
              "<table border=\"1\" class=\"dataframe\">\n",
              "  <thead>\n",
              "    <tr style=\"text-align: right;\">\n",
              "      <th></th>\n",
              "      <th>review_text</th>\n",
              "    </tr>\n",
              "  </thead>\n",
              "  <tbody>\n",
              "    <tr>\n",
              "      <th>0</th>\n",
              "      <td>I thought this was a very good historical fant...</td>\n",
              "    </tr>\n",
              "    <tr>\n",
              "      <th>1</th>\n",
              "      <td>I've had this book recommended to me more than...</td>\n",
              "    </tr>\n",
              "    <tr>\n",
              "      <th>2</th>\n",
              "      <td>Seriously! You go and throw that twist into th...</td>\n",
              "    </tr>\n",
              "    <tr>\n",
              "      <th>3</th>\n",
              "      <td>Gosh!!! I'm still not recovering from the effi...</td>\n",
              "    </tr>\n",
              "    <tr>\n",
              "      <th>4</th>\n",
              "      <td>3.5 stars rounded down. I can't help it, I jus...</td>\n",
              "    </tr>\n",
              "    <tr>\n",
              "      <th>...</th>\n",
              "      <td>...</td>\n",
              "    </tr>\n",
              "    <tr>\n",
              "      <th>199995</th>\n",
              "      <td>** sp01l3r al3rt ** \\n I reeeeeally liked CoLS...</td>\n",
              "    </tr>\n",
              "    <tr>\n",
              "      <th>199996</th>\n",
              "      <td>I do like this book, although, like many other...</td>\n",
              "    </tr>\n",
              "    <tr>\n",
              "      <th>199997</th>\n",
              "      <td>Eh. Read my full review at http://yalitwit.blo...</td>\n",
              "    </tr>\n",
              "    <tr>\n",
              "      <th>199998</th>\n",
              "      <td>I really liked this book! I was angry with som...</td>\n",
              "    </tr>\n",
              "    <tr>\n",
              "      <th>199999</th>\n",
              "      <td>This is a ridiculously fun book. The action is...</td>\n",
              "    </tr>\n",
              "  </tbody>\n",
              "</table>\n",
              "<p>900000 rows × 1 columns</p>\n",
              "</div>\n",
              "      <button class=\"colab-df-convert\" onclick=\"convertToInteractive('df-2eb41e21-c35a-4951-98e0-c67426b55e3c')\"\n",
              "              title=\"Convert this dataframe to an interactive table.\"\n",
              "              style=\"display:none;\">\n",
              "        \n",
              "  <svg xmlns=\"http://www.w3.org/2000/svg\" height=\"24px\"viewBox=\"0 0 24 24\"\n",
              "       width=\"24px\">\n",
              "    <path d=\"M0 0h24v24H0V0z\" fill=\"none\"/>\n",
              "    <path d=\"M18.56 5.44l.94 2.06.94-2.06 2.06-.94-2.06-.94-.94-2.06-.94 2.06-2.06.94zm-11 1L8.5 8.5l.94-2.06 2.06-.94-2.06-.94L8.5 2.5l-.94 2.06-2.06.94zm10 10l.94 2.06.94-2.06 2.06-.94-2.06-.94-.94-2.06-.94 2.06-2.06.94z\"/><path d=\"M17.41 7.96l-1.37-1.37c-.4-.4-.92-.59-1.43-.59-.52 0-1.04.2-1.43.59L10.3 9.45l-7.72 7.72c-.78.78-.78 2.05 0 2.83L4 21.41c.39.39.9.59 1.41.59.51 0 1.02-.2 1.41-.59l7.78-7.78 2.81-2.81c.8-.78.8-2.07 0-2.86zM5.41 20L4 18.59l7.72-7.72 1.47 1.35L5.41 20z\"/>\n",
              "  </svg>\n",
              "      </button>\n",
              "      \n",
              "  <style>\n",
              "    .colab-df-container {\n",
              "      display:flex;\n",
              "      flex-wrap:wrap;\n",
              "      gap: 12px;\n",
              "    }\n",
              "\n",
              "    .colab-df-convert {\n",
              "      background-color: #E8F0FE;\n",
              "      border: none;\n",
              "      border-radius: 50%;\n",
              "      cursor: pointer;\n",
              "      display: none;\n",
              "      fill: #1967D2;\n",
              "      height: 32px;\n",
              "      padding: 0 0 0 0;\n",
              "      width: 32px;\n",
              "    }\n",
              "\n",
              "    .colab-df-convert:hover {\n",
              "      background-color: #E2EBFA;\n",
              "      box-shadow: 0px 1px 2px rgba(60, 64, 67, 0.3), 0px 1px 3px 1px rgba(60, 64, 67, 0.15);\n",
              "      fill: #174EA6;\n",
              "    }\n",
              "\n",
              "    [theme=dark] .colab-df-convert {\n",
              "      background-color: #3B4455;\n",
              "      fill: #D2E3FC;\n",
              "    }\n",
              "\n",
              "    [theme=dark] .colab-df-convert:hover {\n",
              "      background-color: #434B5C;\n",
              "      box-shadow: 0px 1px 3px 1px rgba(0, 0, 0, 0.15);\n",
              "      filter: drop-shadow(0px 1px 2px rgba(0, 0, 0, 0.3));\n",
              "      fill: #FFFFFF;\n",
              "    }\n",
              "  </style>\n",
              "\n",
              "      <script>\n",
              "        const buttonEl =\n",
              "          document.querySelector('#df-2eb41e21-c35a-4951-98e0-c67426b55e3c button.colab-df-convert');\n",
              "        buttonEl.style.display =\n",
              "          google.colab.kernel.accessAllowed ? 'block' : 'none';\n",
              "\n",
              "        async function convertToInteractive(key) {\n",
              "          const element = document.querySelector('#df-2eb41e21-c35a-4951-98e0-c67426b55e3c');\n",
              "          const dataTable =\n",
              "            await google.colab.kernel.invokeFunction('convertToInteractive',\n",
              "                                                     [key], {});\n",
              "          if (!dataTable) return;\n",
              "\n",
              "          const docLinkHtml = 'Like what you see? Visit the ' +\n",
              "            '<a target=\"_blank\" href=https://colab.research.google.com/notebooks/data_table.ipynb>data table notebook</a>'\n",
              "            + ' to learn more about interactive tables.';\n",
              "          element.innerHTML = '';\n",
              "          dataTable['output_type'] = 'display_data';\n",
              "          await google.colab.output.renderOutput(dataTable, element);\n",
              "          const docLink = document.createElement('div');\n",
              "          docLink.innerHTML = docLinkHtml;\n",
              "          element.appendChild(docLink);\n",
              "        }\n",
              "      </script>\n",
              "    </div>\n",
              "  </div>\n",
              "  "
            ]
          },
          "metadata": {},
          "execution_count": 11
        }
      ]
    },
    {
      "cell_type": "code",
      "source": [
        "# transformation of the data into numerical representations, using the ContentVectorizer and the TfidfTransformer\n",
        "from sklearn.feature_extraction.text import CountVectorizer\n",
        "count_vect = CountVectorizer()\n",
        "X_train_counts = count_vect.fit_transform(data1.review_text)\n",
        "X_train_counts.shape"
      ],
      "metadata": {
        "colab": {
          "base_uri": "https://localhost:8080/"
        },
        "id": "ZG2KRUbUlbQX",
        "outputId": "1bb50ba0-aa85-4fa9-b81b-12d7525eeac8"
      },
      "execution_count": null,
      "outputs": [
        {
          "output_type": "execute_result",
          "data": {
            "text/plain": [
              "(900000, 295944)"
            ]
          },
          "metadata": {},
          "execution_count": 12
        }
      ]
    },
    {
      "cell_type": "code",
      "source": [
        "from sklearn.feature_extraction.text import TfidfTransformer\n",
        "tf_transformer = TfidfTransformer(use_idf=False).fit(X_train_counts)\n",
        "X_train_tf = tf_transformer.transform(X_train_counts)\n",
        "X_train_tf.shape"
      ],
      "metadata": {
        "colab": {
          "base_uri": "https://localhost:8080/"
        },
        "id": "MITaxiUXnS65",
        "outputId": "5f08c7bf-186c-4a1f-de1f-6851c16aa843"
      },
      "execution_count": null,
      "outputs": [
        {
          "output_type": "execute_result",
          "data": {
            "text/plain": [
              "(900000, 295944)"
            ]
          },
          "metadata": {},
          "execution_count": 13
        }
      ]
    },
    {
      "cell_type": "code",
      "source": [
        "train_data = X_train_tf[:700000, :]\n",
        "train_data.shape"
      ],
      "metadata": {
        "colab": {
          "base_uri": "https://localhost:8080/"
        },
        "id": "JGZfqGt_Js-V",
        "outputId": "e9400618-d26a-41df-f3e0-7db7b380e65a"
      },
      "execution_count": null,
      "outputs": [
        {
          "output_type": "execute_result",
          "data": {
            "text/plain": [
              "(700000, 295944)"
            ]
          },
          "metadata": {},
          "execution_count": 14
        }
      ]
    },
    {
      "cell_type": "code",
      "source": [
        "test_data = X_train_tf[700000:, :]\n",
        "test_data.shape"
      ],
      "metadata": {
        "colab": {
          "base_uri": "https://localhost:8080/"
        },
        "id": "bBZBs6wmKG0u",
        "outputId": "c8126690-e547-4249-f70d-accb73a37057"
      },
      "execution_count": null,
      "outputs": [
        {
          "output_type": "execute_result",
          "data": {
            "text/plain": [
              "(200000, 295944)"
            ]
          },
          "metadata": {},
          "execution_count": 15
        }
      ]
    },
    {
      "cell_type": "code",
      "source": [
        "from sklearn.model_selection import train_test_split\n",
        "x_train, x_val, y_train, y_val = train_test_split(train_data, data.rating, test_size = 0.285714, random_state=40)"
      ],
      "metadata": {
        "id": "MlrfwDvVqbVn"
      },
      "execution_count": null,
      "outputs": []
    },
    {
      "cell_type": "code",
      "source": [
        "x_train.shape"
      ],
      "metadata": {
        "colab": {
          "base_uri": "https://localhost:8080/"
        },
        "id": "oeQ-qabTspk5",
        "outputId": "76d4f7ea-7150-46fe-9449-22ff64071c72"
      },
      "execution_count": null,
      "outputs": [
        {
          "output_type": "execute_result",
          "data": {
            "text/plain": [
              "(500000, 295944)"
            ]
          },
          "metadata": {},
          "execution_count": 17
        }
      ]
    },
    {
      "cell_type": "code",
      "source": [
        "y_train.shape"
      ],
      "metadata": {
        "colab": {
          "base_uri": "https://localhost:8080/"
        },
        "id": "BFNj3z1utC0f",
        "outputId": "7b630b90-8e73-4935-ca3d-1374b83ecf80"
      },
      "execution_count": null,
      "outputs": [
        {
          "output_type": "execute_result",
          "data": {
            "text/plain": [
              "(500000,)"
            ]
          },
          "metadata": {},
          "execution_count": 18
        }
      ]
    },
    {
      "cell_type": "code",
      "source": [
        "x_val.shape"
      ],
      "metadata": {
        "colab": {
          "base_uri": "https://localhost:8080/"
        },
        "id": "TUN4rSHAtHEv",
        "outputId": "b0f95cdf-2510-4853-81ca-6b81dad6b8fb"
      },
      "execution_count": null,
      "outputs": [
        {
          "output_type": "execute_result",
          "data": {
            "text/plain": [
              "(200000, 295944)"
            ]
          },
          "metadata": {},
          "execution_count": 19
        }
      ]
    },
    {
      "cell_type": "code",
      "source": [
        "y_val.shape"
      ],
      "metadata": {
        "colab": {
          "base_uri": "https://localhost:8080/"
        },
        "id": "QV0hIcp8tMgp",
        "outputId": "2974e61b-c8cd-4dd3-e2d8-bb995ce80ad4"
      },
      "execution_count": null,
      "outputs": [
        {
          "output_type": "execute_result",
          "data": {
            "text/plain": [
              "(200000,)"
            ]
          },
          "metadata": {},
          "execution_count": 20
        }
      ]
    },
    {
      "cell_type": "markdown",
      "source": [
        "# Method\n",
        "It was noted that some spoilers that could potentially affect the accuracy of our models were were in the reviews. Therefore, it was needed to consider excluding such reviews \n",
        "or developing a way to detect and handle them appropriately and so before the texts were cleaned by removing contents like punctuation and stop words, we first pre-processed \n",
        "the data by eliminating any extraneous characters like emojis and URLs. The text was then transformed into numerical representations using the CountVectorizer and TfidfTransformer routines.\n",
        "The “train_test_split” method from scikit-learn is employed to randomly perform a 2-way split (splitting the original dataset into training and validation sets) as the test set \n",
        "is available separately to avoid the production of Bias estimates. The method was run on the data for the generation of a validation set for testing our models. A test size of  \n",
        "a value of exactly “0.285714” was employed to have a training set of 500,000 and a validation of 200,000 rows (which will also be the same with the test size) and this set “test_size” \n",
        "kept consistent among the models.\n",
        "\n",
        ".\n",
        "\n",
        "Four different sections were implemented\n",
        "\n",
        "i. A typical Machine Learning algorithm\n",
        "\n",
        "ii. A 3 layer Neural Network\n",
        "\n",
        "iii. A deep NN with various layer sizes\n",
        "\n",
        "iv. Complex Models containing GRU, BERT and LSTM\n",
        "\n",
        "\n",
        ".\n",
        "\n",
        "The Multinomial Naive Bayes and SGD Classifier were applied for the common ML algorithm. We constructed the model for the 3-layer NN using the Keras library and modified the neurons \n",
        "in the hidden layer. We changed the number of hidden layers and the kind of activation function employed in each layer for the deep NN. The complex Recurrent Neural Network Algorithms\n",
        "such as the LSTM, GRUs, and BERT models were then applied to also make predictions on the ranking of the books based on their text reviews."
      ],
      "metadata": {
        "id": "lTZKi144KTeD"
      }
    },
    {
      "cell_type": "code",
      "source": [],
      "metadata": {
        "id": "SF3OhSjxLMps"
      },
      "execution_count": null,
      "outputs": []
    },
    {
      "cell_type": "markdown",
      "source": [
        "## Standard ML Model\n",
        "\n",
        "We have used the Multinomial Naive Bayes algorithm and SGD Classifier as our baseline models which give a validation accuracy of 0.41 and 0.48 respectively."
      ],
      "metadata": {
        "id": "QgmLQEpvLMZS"
      }
    },
    {
      "cell_type": "code",
      "source": [
        "from sklearn.metrics import accuracy_score"
      ],
      "metadata": {
        "id": "IJmrI5IqujuR"
      },
      "execution_count": null,
      "outputs": []
    },
    {
      "cell_type": "code",
      "source": [
        "# Applying the Stanndared 2 ML models \n",
        "\n",
        "# Importing MultinomialNB from sklearn's naive_bayes module and creating an instance of it\n",
        "from sklearn.naive_bayes import MultinomialNB\n",
        "ml1 = MultinomialNB()\n",
        "ml1.fit(x_train, y_train)\n",
        "predict1 = ml1.predict(x_val)\n",
        "acc1 = accuracy_score(y_val, predict1)\n",
        "print(acc1)"
      ],
      "metadata": {
        "colab": {
          "base_uri": "https://localhost:8080/"
        },
        "id": "XNUTE6a7tbEF",
        "outputId": "c8ab73dc-d505-466d-8207-35d3b36ececd"
      },
      "execution_count": null,
      "outputs": [
        {
          "output_type": "stream",
          "name": "stdout",
          "text": [
            "0.406525\n"
          ]
        }
      ]
    },
    {
      "cell_type": "code",
      "source": [
        "# Importing SGDClassifier from sklearn's linear_model module and creating an instance of the SGDClassifier model\n",
        "\n",
        "from sklearn.linear_model import SGDClassifier\n",
        "ml2 = SGDClassifier()\n",
        "ml2.fit(x_train, y_train)\n",
        "predict2 = ml2.predict(x_val)\n",
        "acc2 = accuracy_score(y_val, predict2)\n",
        "print(acc2)"
      ],
      "metadata": {
        "colab": {
          "base_uri": "https://localhost:8080/"
        },
        "id": "2GOqghiuvGs_",
        "outputId": "f38eb224-c1d0-44c9-d20d-cfd499efb24d"
      },
      "execution_count": null,
      "outputs": [
        {
          "output_type": "stream",
          "name": "stdout",
          "text": [
            "0.481175\n"
          ]
        }
      ]
    },
    {
      "cell_type": "code",
      "source": [
        "# SGDClassifier was observed to perform better as confirmed in the metrics"
      ],
      "metadata": {
        "id": "tgIMcT2MLfhb"
      },
      "execution_count": null,
      "outputs": []
    },
    {
      "cell_type": "markdown",
      "source": [
        "# 3-layer Neural Network Baseline Model\n",
        "\n",
        "\n",
        "With varying numbers of neurons in the hidden layer, we built a three-layer NN. With a batch size of 128 over 30 iterations, using 100 neurons for the hidden layer. Eventually,a value of ___ for the training accuracy and ___ for the validation accuracy was the outcome."
      ],
      "metadata": {
        "id": "X8w9T8C5LzvX"
      }
    },
    {
      "cell_type": "code",
      "source": [
        "# Here we had to pre-processed the data by eliminating any extraneous characters like emojis and URLs using the emj_rem, rmvrl and clean functions\n",
        "def emj_rem(txt):\n",
        "  emj = re.compile(\"[\"\n",
        "                           u\"\\U0001F600-\\U0001F64F\"  # emoticons\n",
        "                           u\"\\U0001F300-\\U0001F5FF\"  # symbols & pictographs\n",
        "                           u\"\\U0001F680-\\U0001F6FF\"  # transport & map symbols\n",
        "                           u\"\\U0001F1E0-\\U0001F1FF\"  # flags (iOS)\n",
        "                           u\"\\U00002702-\\U000027B0\"\n",
        "                           u\"\\U000024C2-\\U0001F251\"\n",
        "                           \"]+\", flags=re.UNICODE)\n",
        "  return emj.sub(r'', txt)\n",
        "\n",
        "def rmvurl(txt): \n",
        "    url  = re.compile('http[s]?://(?:[a-zA-Z]|[0-9]|[$-_@.&+]|[!*\\(\\),]|(?:%[0-9a-fA-F][0-9a-fA-F]))+')\n",
        "    return url.sub(r'', txt)\n",
        "\n",
        "def clean(txt): \n",
        "    del_dic = {sp_character: '' for sp_character in string.punctuation} \n",
        "    del_dic[' '] = ' ' \n",
        "    tab = str.maketrans(del_dic)\n",
        "    txt1 = txt.translate(tab)\n",
        "    txtAr= txt1.split()\n",
        "    text2 = ' '.join([w for w in txtAr if ( not w.isdigit() and  ( not w.isdigit() and len(w)>2))]) \n",
        "    \n",
        "    return text2.lower()"
      ],
      "metadata": {
        "id": "VKU4JCrhMoJF"
      },
      "execution_count": null,
      "outputs": []
    },
    {
      "cell_type": "code",
      "source": [
        "# Finding the maximum number of words in a review in the training dataset.\n",
        "data['words_num'] = data.review_text.apply(lambda y:len(str(y).split()))\n",
        "train_max_length = data['words_num'].max()\n",
        "\n",
        "\n",
        "# Pre-processing the review_text data in the training dataset.\n",
        "# First removing the emojis, then removing the URLs and then cleaning the data using some regex patterns.\n",
        "data.review_text = data.review_text.apply(emj_rem)\n",
        "data.review_text = data.review_text.apply(rmvurl)\n",
        "data.review_text = data.review_text.apply(clean)\n",
        "\n",
        "# Finding the maximum number of words in a review in the test dataset.\n",
        "test['words_num'] = test.review_text.apply(lambda y:len(str(y).split()))\n",
        "test_max_length = test['words_num'].max()\n",
        "\n",
        "# Pre-processing the review_text data in the test dataset.\n",
        "# First removing the emojis, then removing the URLs and then cleaning the data using some regex patterns.\n",
        "test.review_text = test.review_text.apply(emj_rem)\n",
        "test.review_text = test.review_text.apply(rmvurl)\n",
        "test.review_text = test.review_text.apply(clean)\n",
        "\n",
        "print('Training data has highest length of: ', train_max_length)\n",
        "print('Testing data has highest length of: ', test_max_length)\n",
        "\n",
        "# Importing necessary libraries and creating a Tokenizer instance\n",
        "from tensorflow.keras.preprocessing.text import Tokenizer\n",
        "from tensorflow.keras.preprocessing.sequence import pad_sequences\n",
        "\n",
        "num_words = 20000\n",
        "\n",
        "tokenizer = Tokenizer(num_words=num_words,oov_token=\"unk\")\n",
        "tokenizer.fit_on_texts(data['review_text'].tolist())\n",
        "\n",
        "\n",
        "# Creating padded sequences for the train, validation and test datasets.\n",
        "x_train = np.array( tokenizer.texts_to_sequences(X_train) )\n",
        "x_valid = np.array( tokenizer.texts_to_sequences(X_valid) )\n",
        "x_test  = np.array( tokenizer.texts_to_sequences(test['review_text'].tolist()) )\n",
        "\n",
        "\n",
        "x_train = pad_sequences(x_train, padding='post', maxlen=40)\n",
        "x_valid = pad_sequences(x_valid, padding='post', maxlen=40)\n",
        "x_test = pad_sequences(x_test, padding='post', maxlen=40)\n",
        "\n",
        "train_ds = tf.data.Dataset.from_tensor_slices((x_train, np.asarray(tf.keras.utils.to_categorical(y_train))))\n",
        "valid_ds = tf.data.Dataset.from_tensor_slices((x_valid, np.asarray(tf.keras.utils.to_categorical(y_valid))))\n",
        "\n"
      ],
      "metadata": {
        "id": "TCATdpCbOv84"
      },
      "execution_count": null,
      "outputs": []
    },
    {
      "cell_type": "code",
      "source": [
        "## Defining the 3 Neural Network Model\n",
        "input = keras.layers.Input(shape=x_train.shape[1:])\n",
        "h1 = keras.layers.Dense(100)(input)\n",
        "h2 = keras.layers.Dense(100)(h1)\n",
        "output = keras.layers.Dense(6)(h2)\n",
        "\n",
        "model = keras.Model(inputs=[input], outputs=[output])\n",
        "model.compile(loss=tf.keras.losses.CategoricalCrossentropy(from_logits=True), optimizer='Nadam', metrics=[\"CategoricalAccuracy\"])"
      ],
      "metadata": {
        "id": "X3jB_THYLmdW"
      },
      "execution_count": null,
      "outputs": []
    },
    {
      "cell_type": "code",
      "source": [
        "epochs = 20\n",
        "# Fit the model using the train and test datasets.\n",
        "\n",
        "history3 = model.fit(train_ds.shuffle(2000).batch(128),\n",
        "                    epochs= epochs ,\n",
        "                    validation_data=valid_ds.batch(128),\n",
        "                    verbose=1)"
      ],
      "metadata": {
        "colab": {
          "base_uri": "https://localhost:8080/"
        },
        "outputId": "c13d8055-13e3-4a08-c257-6f281325efe0",
        "id": "BHm7SrpTLmdW"
      },
      "execution_count": null,
      "outputs": [
        {
          "output_type": "stream",
          "name": "stdout",
          "text": [
            "Epoch 1/20\n",
            "3907/3907 [==============================] - 23s 5ms/step - loss: 323.1269 - categorical_accuracy: 0.2634 - val_loss: 202.0858 - val_categorical_accuracy: 0.2693\n",
            "Epoch 2/20\n",
            "3907/3907 [==============================] - 20s 5ms/step - loss: 78.2637 - categorical_accuracy: 0.2623 - val_loss: 31.7207 - val_categorical_accuracy: 0.2604\n",
            "Epoch 3/20\n",
            "3907/3907 [==============================] - 20s 5ms/step - loss: 9.2278 - categorical_accuracy: 0.2795 - val_loss: 2.4831 - val_categorical_accuracy: 0.2825\n",
            "Epoch 4/20\n",
            "3907/3907 [==============================] - 21s 5ms/step - loss: 3.1831 - categorical_accuracy: 0.2922 - val_loss: 5.3193 - val_categorical_accuracy: 0.2269\n",
            "Epoch 5/20\n",
            "3907/3907 [==============================] - 19s 5ms/step - loss: 3.1757 - categorical_accuracy: 0.2947 - val_loss: 3.1932 - val_categorical_accuracy: 0.2789\n",
            "Epoch 6/20\n",
            "3907/3907 [==============================] - 19s 5ms/step - loss: 3.0578 - categorical_accuracy: 0.3012 - val_loss: 15.5631 - val_categorical_accuracy: 0.3135\n",
            "Epoch 7/20\n",
            "3907/3907 [==============================] - 20s 5ms/step - loss: 2.3617 - categorical_accuracy: 0.3064 - val_loss: 5.7535 - val_categorical_accuracy: 0.3316\n",
            "Epoch 8/20\n",
            "3907/3907 [==============================] - 19s 5ms/step - loss: 1.8692 - categorical_accuracy: 0.3123 - val_loss: 1.6704 - val_categorical_accuracy: 0.3268\n",
            "Epoch 9/20\n",
            "3907/3907 [==============================] - 20s 5ms/step - loss: 1.7072 - categorical_accuracy: 0.3130 - val_loss: 1.6962 - val_categorical_accuracy: 0.2970\n",
            "Epoch 10/20\n",
            "3907/3907 [==============================] - 19s 5ms/step - loss: 1.5725 - categorical_accuracy: 0.3221 - val_loss: 1.4849 - val_categorical_accuracy: 0.3301\n",
            "Epoch 11/20\n",
            "3907/3907 [==============================] - 21s 5ms/step - loss: 1.5748 - categorical_accuracy: 0.3281 - val_loss: 1.4806 - val_categorical_accuracy: 0.3282\n",
            "Epoch 12/20\n",
            "3907/3907 [==============================] - 19s 5ms/step - loss: 1.5037 - categorical_accuracy: 0.3325 - val_loss: 1.8460 - val_categorical_accuracy: 0.3038\n",
            "Epoch 13/20\n",
            "3907/3907 [==============================] - 21s 5ms/step - loss: 1.5861 - categorical_accuracy: 0.3293 - val_loss: 1.5855 - val_categorical_accuracy: 0.3059\n",
            "Epoch 14/20\n",
            "3907/3907 [==============================] - 21s 5ms/step - loss: 1.5505 - categorical_accuracy: 0.3322 - val_loss: 1.4593 - val_categorical_accuracy: 0.3383\n",
            "Epoch 15/20\n",
            "3907/3907 [==============================] - 19s 5ms/step - loss: 1.4939 - categorical_accuracy: 0.3347 - val_loss: 1.4488 - val_categorical_accuracy: 0.3460\n",
            "Epoch 16/20\n",
            "3907/3907 [==============================] - 21s 5ms/step - loss: 1.5416 - categorical_accuracy: 0.3330 - val_loss: 1.4559 - val_categorical_accuracy: 0.3374\n",
            "Epoch 17/20\n",
            "3907/3907 [==============================] - 20s 5ms/step - loss: 1.5177 - categorical_accuracy: 0.3367 - val_loss: 1.4467 - val_categorical_accuracy: 0.3394\n",
            "Epoch 18/20\n",
            "3907/3907 [==============================] - 19s 5ms/step - loss: 1.5497 - categorical_accuracy: 0.3377 - val_loss: 1.4492 - val_categorical_accuracy: 0.3453\n",
            "Epoch 19/20\n",
            "3907/3907 [==============================] - 21s 5ms/step - loss: 1.4905 - categorical_accuracy: 0.3370 - val_loss: 1.4392 - val_categorical_accuracy: 0.3492\n",
            "Epoch 20/20\n",
            "3907/3907 [==============================] - 20s 5ms/step - loss: 1.4618 - categorical_accuracy: 0.3340 - val_loss: 1.4790 - val_categorical_accuracy: 0.3369\n"
          ]
        }
      ]
    },
    {
      "cell_type": "code",
      "source": [],
      "metadata": {
        "id": "k9yFnjxiLk1A"
      },
      "execution_count": null,
      "outputs": []
    },
    {
      "cell_type": "code",
      "source": [
        "# Still do\n",
        "\n",
        "\n",
        "#update 3NN after running for 100 units\n",
        "# increse neurons number and rerun\n",
        "# plot graph\n",
        "\n",
        "#For deep NN increase from 3NN to 4NN and to 5NN and then plot for"
      ],
      "metadata": {
        "id": "q2txT1f8Ukud"
      },
      "execution_count": null,
      "outputs": []
    },
    {
      "cell_type": "markdown",
      "source": [
        "# Deep NN models:\n",
        "\n",
        "For the deep NN which is the extension of the baseline 3 layer NN model,\n",
        "we are increasing the depth of the layer to 4 layers and then 5 layers \n",
        "where we also provide a plot to evaluate and visualize the performance over incresed quantity of layers"
      ],
      "metadata": {
        "id": "pp-mi9_gUvhd"
      }
    },
    {
      "cell_type": "code",
      "source": [
        "## Trying for the 4 layer deeper Neural Network\n",
        "\n",
        "\n",
        "h1 = keras.layers.Dense(100)(input)\n",
        "h2 = keras.layers.Dense(100)(h1)\n",
        "h3 = keras.layers.Dense(100)(h2)\n",
        "output4 = keras.layers.Dense(6)(h3)\n",
        "\n",
        "model4 = keras.Model(inputs=[input], outputs=[output4])\n",
        "model4.compile(loss=tf.keras.losses.CategoricalCrossentropy(from_logits=True), optimizer='Nadam', metrics=[\"CategoricalAccuracy\"])\n",
        "\n",
        "\n",
        "epochs = 20\n",
        "# Fit the model using the train and test datasets.\n",
        "\n",
        "history4 = model.fit(train_ds.shuffle(2000).batch(128),\n",
        "                    epochs= epochs ,\n",
        "                    validation_data=valid_ds.batch(128),\n",
        "                    verbose=1)"
      ],
      "metadata": {
        "colab": {
          "base_uri": "https://localhost:8080/"
        },
        "outputId": "7d4c4624-97b2-4fab-d5c0-298a0f43d41e",
        "id": "MGvwu7-fLmdY"
      },
      "execution_count": null,
      "outputs": [
        {
          "output_type": "stream",
          "name": "stdout",
          "text": [
            "Epoch 1/20\n",
            "3907/3907 [==============================] - 19s 5ms/step - loss: 1.5359 - categorical_accuracy: 0.3348 - val_loss: 1.4418 - val_categorical_accuracy: 0.3462\n",
            "Epoch 2/20\n",
            "3907/3907 [==============================] - 20s 5ms/step - loss: 1.4618 - categorical_accuracy: 0.3349 - val_loss: 1.4829 - val_categorical_accuracy: 0.3396\n",
            "Epoch 3/20\n",
            "3907/3907 [==============================] - 19s 5ms/step - loss: 1.4707 - categorical_accuracy: 0.3314 - val_loss: 1.4782 - val_categorical_accuracy: 0.3334\n",
            "Epoch 4/20\n",
            "3907/3907 [==============================] - 22s 6ms/step - loss: 1.4703 - categorical_accuracy: 0.3321 - val_loss: 1.6402 - val_categorical_accuracy: 0.3348\n",
            "Epoch 5/20\n",
            "3907/3907 [==============================] - 19s 5ms/step - loss: 1.4710 - categorical_accuracy: 0.3317 - val_loss: 1.4990 - val_categorical_accuracy: 0.3353\n",
            "Epoch 6/20\n",
            "3907/3907 [==============================] - 21s 5ms/step - loss: 1.4707 - categorical_accuracy: 0.3322 - val_loss: 1.4843 - val_categorical_accuracy: 0.3279\n",
            "Epoch 7/20\n",
            "3907/3907 [==============================] - 21s 5ms/step - loss: 1.4703 - categorical_accuracy: 0.3312 - val_loss: 1.4858 - val_categorical_accuracy: 0.3316\n",
            "Epoch 8/20\n",
            "3907/3907 [==============================] - 19s 5ms/step - loss: 1.4705 - categorical_accuracy: 0.3314 - val_loss: 1.5014 - val_categorical_accuracy: 0.3291\n",
            "Epoch 9/20\n",
            "3907/3907 [==============================] - 21s 5ms/step - loss: 1.6030 - categorical_accuracy: 0.3325 - val_loss: 1.4515 - val_categorical_accuracy: 0.3421\n",
            "Epoch 10/20\n",
            "3907/3907 [==============================] - 21s 5ms/step - loss: 1.5040 - categorical_accuracy: 0.3385 - val_loss: 1.7459 - val_categorical_accuracy: 0.3315\n",
            "Epoch 11/20\n",
            "3907/3907 [==============================] - 19s 5ms/step - loss: 1.4506 - categorical_accuracy: 0.3385 - val_loss: 1.4855 - val_categorical_accuracy: 0.3236\n",
            "Epoch 12/20\n",
            "3907/3907 [==============================] - 19s 5ms/step - loss: 1.4696 - categorical_accuracy: 0.3314 - val_loss: 1.4825 - val_categorical_accuracy: 0.3189\n",
            "Epoch 13/20\n",
            "3907/3907 [==============================] - 21s 5ms/step - loss: 1.4711 - categorical_accuracy: 0.3320 - val_loss: 1.4938 - val_categorical_accuracy: 0.3317\n",
            "Epoch 14/20\n",
            "3907/3907 [==============================] - 19s 5ms/step - loss: 1.4699 - categorical_accuracy: 0.3316 - val_loss: 1.4922 - val_categorical_accuracy: 0.3333\n",
            "Epoch 15/20\n",
            "3907/3907 [==============================] - 21s 5ms/step - loss: 1.4710 - categorical_accuracy: 0.3317 - val_loss: 1.4965 - val_categorical_accuracy: 0.3233\n",
            "Epoch 16/20\n",
            "3907/3907 [==============================] - 19s 5ms/step - loss: 1.4705 - categorical_accuracy: 0.3318 - val_loss: 1.5169 - val_categorical_accuracy: 0.3232\n",
            "Epoch 17/20\n",
            "3907/3907 [==============================] - 19s 5ms/step - loss: 1.4709 - categorical_accuracy: 0.3319 - val_loss: 1.5154 - val_categorical_accuracy: 0.3346\n",
            "Epoch 18/20\n",
            "3907/3907 [==============================] - 18s 5ms/step - loss: 1.4703 - categorical_accuracy: 0.3323 - val_loss: 1.4890 - val_categorical_accuracy: 0.3277\n",
            "Epoch 19/20\n",
            "3907/3907 [==============================] - 21s 5ms/step - loss: 1.4701 - categorical_accuracy: 0.3319 - val_loss: 1.4988 - val_categorical_accuracy: 0.3241\n",
            "Epoch 20/20\n",
            "3907/3907 [==============================] - 20s 5ms/step - loss: 1.4704 - categorical_accuracy: 0.3314 - val_loss: 1.4817 - val_categorical_accuracy: 0.3194\n"
          ]
        }
      ]
    },
    {
      "cell_type": "code",
      "source": [
        "## Trying for the 5 layer deeper Neural Network\n",
        "\n",
        "\n",
        "h1 = keras.layers.Dense(100)(input)\n",
        "h2 = keras.layers.Dense(100)(h1)\n",
        "h3 = keras.layers.Dense(100)(h2)\n",
        "h4 = keras.layers.Dense(100)(h3)\n",
        "output5 = keras.layers.Dense(6)(h4)\n",
        "\n",
        "model5 = keras.Model(inputs=[input], outputs=[output5])\n",
        "model5.compile(loss=tf.keras.losses.CategoricalCrossentropy(from_logits=True), optimizer='Nadam', metrics=[\"CategoricalAccuracy\"])\n",
        "\n",
        "epochs = 20\n",
        "# Fit the model using the train and test datasets.\n",
        "\n",
        "history5 = model.fit(train_ds.shuffle(2000).batch(128),\n",
        "                    epochs= epochs ,\n",
        "                    validation_data=valid_ds.batch(128),\n",
        "                    verbose=1)"
      ],
      "metadata": {
        "colab": {
          "base_uri": "https://localhost:8080/"
        },
        "outputId": "6dfce91a-3e35-4487-9337-63e36faaaf54",
        "id": "4IZXDHXeLmdZ"
      },
      "execution_count": null,
      "outputs": [
        {
          "output_type": "stream",
          "name": "stdout",
          "text": [
            "Epoch 1/20\n",
            "3907/3907 [==============================] - 18s 5ms/step - loss: 1.4702 - categorical_accuracy: 0.3317 - val_loss: 1.4779 - val_categorical_accuracy: 0.3267\n",
            "Epoch 2/20\n",
            "3907/3907 [==============================] - 22s 6ms/step - loss: 1.4708 - categorical_accuracy: 0.3319 - val_loss: 1.4727 - val_categorical_accuracy: 0.3373\n",
            "Epoch 3/20\n",
            "3907/3907 [==============================] - 21s 5ms/step - loss: 1.4700 - categorical_accuracy: 0.3314 - val_loss: 1.4637 - val_categorical_accuracy: 0.3307\n",
            "Epoch 4/20\n",
            "3907/3907 [==============================] - 21s 5ms/step - loss: 1.4708 - categorical_accuracy: 0.3315 - val_loss: 1.4711 - val_categorical_accuracy: 0.3327\n",
            "Epoch 5/20\n",
            "3907/3907 [==============================] - 18s 5ms/step - loss: 1.4708 - categorical_accuracy: 0.3315 - val_loss: 1.4852 - val_categorical_accuracy: 0.3288\n",
            "Epoch 6/20\n",
            "3907/3907 [==============================] - 20s 5ms/step - loss: 1.4701 - categorical_accuracy: 0.3318 - val_loss: 1.5396 - val_categorical_accuracy: 0.3064\n",
            "Epoch 7/20\n",
            "3907/3907 [==============================] - 20s 5ms/step - loss: 1.4709 - categorical_accuracy: 0.3316 - val_loss: 1.4883 - val_categorical_accuracy: 0.3412\n",
            "Epoch 8/20\n",
            "3907/3907 [==============================] - 19s 5ms/step - loss: 1.4703 - categorical_accuracy: 0.3322 - val_loss: 1.4584 - val_categorical_accuracy: 0.3418\n",
            "Epoch 9/20\n",
            "3907/3907 [==============================] - 19s 5ms/step - loss: 1.4701 - categorical_accuracy: 0.3318 - val_loss: 1.4875 - val_categorical_accuracy: 0.3210\n",
            "Epoch 10/20\n",
            "3907/3907 [==============================] - 19s 5ms/step - loss: 1.4702 - categorical_accuracy: 0.3314 - val_loss: 1.5305 - val_categorical_accuracy: 0.3079\n",
            "Epoch 11/20\n",
            "3907/3907 [==============================] - 21s 5ms/step - loss: 1.4700 - categorical_accuracy: 0.3317 - val_loss: 1.5097 - val_categorical_accuracy: 0.3189\n",
            "Epoch 12/20\n",
            "3907/3907 [==============================] - 19s 5ms/step - loss: 1.4706 - categorical_accuracy: 0.3319 - val_loss: 1.4728 - val_categorical_accuracy: 0.3314\n",
            "Epoch 13/20\n",
            "3907/3907 [==============================] - 21s 5ms/step - loss: 1.4697 - categorical_accuracy: 0.3318 - val_loss: 1.5155 - val_categorical_accuracy: 0.3194\n",
            "Epoch 14/20\n",
            "3907/3907 [==============================] - 19s 5ms/step - loss: 1.4709 - categorical_accuracy: 0.3315 - val_loss: 1.4791 - val_categorical_accuracy: 0.3319\n",
            "Epoch 15/20\n",
            "3907/3907 [==============================] - 20s 5ms/step - loss: 1.4701 - categorical_accuracy: 0.3313 - val_loss: 1.4944 - val_categorical_accuracy: 0.3285\n",
            "Epoch 16/20\n",
            "3907/3907 [==============================] - 19s 5ms/step - loss: 1.4704 - categorical_accuracy: 0.3315 - val_loss: 1.4721 - val_categorical_accuracy: 0.3290\n",
            "Epoch 17/20\n",
            "3907/3907 [==============================] - 19s 5ms/step - loss: 1.4705 - categorical_accuracy: 0.3316 - val_loss: 1.5028 - val_categorical_accuracy: 0.3260\n",
            "Epoch 18/20\n",
            "3907/3907 [==============================] - 20s 5ms/step - loss: 1.4704 - categorical_accuracy: 0.3314 - val_loss: 1.5014 - val_categorical_accuracy: 0.3225\n",
            "Epoch 19/20\n",
            "3907/3907 [==============================] - 19s 5ms/step - loss: 1.4702 - categorical_accuracy: 0.3320 - val_loss: 1.4760 - val_categorical_accuracy: 0.3254\n",
            "Epoch 20/20\n",
            "3907/3907 [==============================] - 21s 5ms/step - loss: 1.4706 - categorical_accuracy: 0.3316 - val_loss: 1.4992 - val_categorical_accuracy: 0.3169\n"
          ]
        }
      ]
    },
    {
      "cell_type": "markdown",
      "source": [
        "### The following displays the visual  representation of the effect of addition of more layers on the performance"
      ],
      "metadata": {
        "id": "v2iFDEoEgKA1"
      }
    },
    {
      "cell_type": "code",
      "source": [
        "import matplotlib.pyplot as plt\n",
        "\n",
        "acc_3 = history3.history['val_categorical_accuracy']\n",
        "acc_4 = history4.history['val_categorical_accuracy']\n",
        "acc_5 = history5.history['val_categorical_accuracy']\n",
        "\n",
        "epochs = range(1, len(acc_3) + 1)\n",
        "\n",
        "plt.plot(epochs, acc_3, 'b', label='3 Layers')\n",
        "plt.plot(epochs, acc_4, 'g', label='4 Layers')\n",
        "plt.plot(epochs, acc_5, 'r', label='5 Layers')\n",
        "plt.title('Validation Accuracy vs. Number of Layers')\n",
        "plt.xlabel('Epochs')\n",
        "plt.ylabel('Validation Accuracy')\n",
        "plt.legend()\n",
        "plt.show()"
      ],
      "metadata": {
        "colab": {
          "base_uri": "https://localhost:8080/",
          "height": 472
        },
        "id": "3t2FFhAZjUUd",
        "outputId": "33025614-57e8-445e-baa5-1278cefe65ed"
      },
      "execution_count": null,
      "outputs": [
        {
          "output_type": "display_data",
          "data": {
            "text/plain": [
              "<Figure size 640x480 with 1 Axes>"
            ],
            "image/png": "[encoded data removed]"
          },
          "metadata": {}
        }
      ]
    },
    {
      "cell_type": "markdown",
      "source": [
        "Ovver 20 epochs, it was noticed that even extending deeper (appending more layers) when implementing Neural Network for the Goodread Classification task \n",
        "did not help improve the performance of the model generally. The accuracy over the iterations were almost in same range for both 4 layer and 5 layer models \n",
        "as compared to the 3 layer model that hand a faily increasing trend "
      ],
      "metadata": {
        "id": "rI5eKDJHRR0n"
      }
    },
    {
      "cell_type": "markdown",
      "source": [
        "### Observing how different activations functions affect the performance for the 5 layer NN. "
      ],
      "metadata": {
        "id": "cNZUhcwua7bU"
      }
    },
    {
      "cell_type": "code",
      "source": [
        "\n",
        "print('Implementing relu activation function')\n",
        "\n",
        "#input_a = keras.layers.Input(shape=x_train.shape[1:])\n",
        "h1 = keras.layers.Dense(100, activation='relu')(input)\n",
        "h2 = keras.layers.Dense(100, activation='relu')(h1)\n",
        "h3 = keras.layers.Dense(100, activation='relu')(h2)\n",
        "h4 = keras.layers.Dense(100, activation='relu')(h3)\n",
        "output_a = keras.layers.Dense(6, activation='softmax')(h4)\n",
        "\n",
        "model_relu = keras.Model(inputs=[input], outputs=[output_a])\n",
        "model_relu.compile(loss=tf.keras.losses.CategoricalCrossentropy(from_logits=True), optimizer='Nadam', metrics=[\"CategoricalAccuracy\"])\n",
        "\n",
        "epochs = 10\n",
        "# Fit the model using the train and test datasets.\n",
        "\n",
        "history_relu = model.fit(train_ds.shuffle(2000).batch(128),\n",
        "                    epochs= epochs ,\n",
        "                    validation_data=valid_ds.batch(128),\n",
        "                    verbose=1)\n",
        "\n",
        "print('Implementing tanh activation function')\n",
        "\n",
        "#input_b = keras.layers.Input(shape=x_train.shape[1:])\n",
        "h1 = keras.layers.Dense(100, activation='tanh')(input)\n",
        "h2 = keras.layers.Dense(100, activation='tanh')(h1)\n",
        "h3 = keras.layers.Dense(100, activation='tanh')(h2)\n",
        "h4 = keras.layers.Dense(100, activation='tanh')(h3)\n",
        "output_b = keras.layers.Dense(6, activation='softmax')(h4)\n",
        "\n",
        "model_mix = keras.Model(inputs=[input], outputs=[output_b])\n",
        "model_mix.compile(loss=tf.keras.losses.CategoricalCrossentropy(from_logits=True), optimizer='Nadam', metrics=[\"CategoricalAccuracy\"])\n",
        "\n",
        "epochs = 10\n",
        "# Fit the model using the train and test datasets.\n",
        "\n",
        "history_mix = model.fit(train_ds.shuffle(2000).batch(128),\n",
        "                    epochs= epochs ,\n",
        "                    validation_data=valid_ds.batch(128),\n",
        "                    verbose=1)\n",
        "\n",
        "\n",
        "print('Implementing elu activation function')\n",
        "\n",
        "#input_c = keras.layers.Input(shape=x_train.shape[1:])\n",
        "h1 = keras.layers.Dense(100, activation='elu')(input)\n",
        "h2 = keras.layers.Dense(100, activation='elu')(h1)\n",
        "h3 = keras.layers.Dense(100, activation='elu')(h2)\n",
        "h4 = keras.layers.Dense(100, activation='elu')(h3)\n",
        "output_c = keras.layers.Dense(6, activation='softmax')(h4)\n",
        "\n",
        "model_elu = keras.Model(inputs=[input], outputs=[output_c])\n",
        "model_elu.compile(loss=tf.keras.losses.CategoricalCrossentropy(from_logits=True), optimizer='Nadam', metrics=[\"CategoricalAccuracy\"])\n",
        "\n",
        "epochs = 10\n",
        "# Fit the model using the train and test datasets.\n",
        "\n",
        "history_elu = model.fit(train_ds.shuffle(2000).batch(128),\n",
        "                    epochs= epochs ,\n",
        "                    validation_data=valid_ds.batch(128),\n",
        "                    verbose=1)\n"
      ],
      "metadata": {
        "colab": {
          "base_uri": "https://localhost:8080/"
        },
        "outputId": "d52e93ef-1010-4ee8-a10d-a75dba28ca15",
        "id": "Nwj54Tm-OD4I"
      },
      "execution_count": null,
      "outputs": [
        {
          "output_type": "stream",
          "name": "stdout",
          "text": [
            "Implementing relu activation function\n",
            "Epoch 1/10\n",
            "3907/3907 [==============================] - 19s 5ms/step - loss: 1.4710 - categorical_accuracy: 0.3315 - val_loss: 1.5226 - val_categorical_accuracy: 0.3172\n",
            "Epoch 2/10\n",
            "3907/3907 [==============================] - 19s 5ms/step - loss: 1.4701 - categorical_accuracy: 0.3318 - val_loss: 1.4883 - val_categorical_accuracy: 0.3216\n",
            "Epoch 3/10\n",
            "3907/3907 [==============================] - 21s 5ms/step - loss: 1.4701 - categorical_accuracy: 0.3319 - val_loss: 1.4772 - val_categorical_accuracy: 0.3434\n",
            "Epoch 4/10\n",
            "3907/3907 [==============================] - 19s 5ms/step - loss: 1.4700 - categorical_accuracy: 0.3310 - val_loss: 1.4909 - val_categorical_accuracy: 0.3337\n",
            "Epoch 5/10\n",
            "3907/3907 [==============================] - 19s 5ms/step - loss: 1.4702 - categorical_accuracy: 0.3313 - val_loss: 1.4583 - val_categorical_accuracy: 0.3413\n",
            "Epoch 6/10\n",
            "3907/3907 [==============================] - 21s 5ms/step - loss: 1.4709 - categorical_accuracy: 0.3315 - val_loss: 1.4759 - val_categorical_accuracy: 0.3250\n",
            "Epoch 7/10\n",
            "3907/3907 [==============================] - 19s 5ms/step - loss: 1.4701 - categorical_accuracy: 0.3322 - val_loss: 1.4994 - val_categorical_accuracy: 0.3191\n",
            "Epoch 8/10\n",
            "3907/3907 [==============================] - 20s 5ms/step - loss: 1.4708 - categorical_accuracy: 0.3316 - val_loss: 1.4719 - val_categorical_accuracy: 0.3303\n",
            "Epoch 9/10\n",
            "3907/3907 [==============================] - 19s 5ms/step - loss: 1.4704 - categorical_accuracy: 0.3318 - val_loss: 1.4848 - val_categorical_accuracy: 0.3339\n",
            "Epoch 10/10\n",
            "3907/3907 [==============================] - 20s 5ms/step - loss: 1.4701 - categorical_accuracy: 0.3318 - val_loss: 1.4720 - val_categorical_accuracy: 0.3349\n",
            "Implementing tanh activation function\n",
            "Epoch 1/10\n",
            "3907/3907 [==============================] - 19s 5ms/step - loss: 1.4712 - categorical_accuracy: 0.3310 - val_loss: 1.4518 - val_categorical_accuracy: 0.3374\n",
            "Epoch 2/10\n",
            "3907/3907 [==============================] - 18s 5ms/step - loss: 1.4701 - categorical_accuracy: 0.3320 - val_loss: 1.4822 - val_categorical_accuracy: 0.3324\n",
            "Epoch 3/10\n",
            "3907/3907 [==============================] - 20s 5ms/step - loss: 1.4702 - categorical_accuracy: 0.3319 - val_loss: 1.4818 - val_categorical_accuracy: 0.3342\n",
            "Epoch 4/10\n",
            "3907/3907 [==============================] - 18s 5ms/step - loss: 1.4696 - categorical_accuracy: 0.3317 - val_loss: 1.4971 - val_categorical_accuracy: 0.3220\n",
            "Epoch 5/10\n",
            "3907/3907 [==============================] - 24s 6ms/step - loss: 1.4709 - categorical_accuracy: 0.3324 - val_loss: 1.5235 - val_categorical_accuracy: 0.3155\n",
            "Epoch 6/10\n",
            "3907/3907 [==============================] - 24s 6ms/step - loss: 1.4700 - categorical_accuracy: 0.3320 - val_loss: 1.5269 - val_categorical_accuracy: 0.3190\n",
            "Epoch 7/10\n",
            "3907/3907 [==============================] - 18s 5ms/step - loss: 1.4709 - categorical_accuracy: 0.3314 - val_loss: 1.4705 - val_categorical_accuracy: 0.3296\n",
            "Epoch 8/10\n",
            "3907/3907 [==============================] - 18s 5ms/step - loss: 1.4699 - categorical_accuracy: 0.3320 - val_loss: 1.4926 - val_categorical_accuracy: 0.3252\n",
            "Epoch 9/10\n",
            "3907/3907 [==============================] - 26s 7ms/step - loss: 1.4706 - categorical_accuracy: 0.3317 - val_loss: 1.4867 - val_categorical_accuracy: 0.3274\n",
            "Epoch 10/10\n",
            "3907/3907 [==============================] - 21s 5ms/step - loss: 1.4704 - categorical_accuracy: 0.3321 - val_loss: 1.4841 - val_categorical_accuracy: 0.3308\n",
            "Implementing elu activation function\n",
            "Epoch 1/10\n",
            "3907/3907 [==============================] - 19s 5ms/step - loss: 1.4705 - categorical_accuracy: 0.3324 - val_loss: 1.5042 - val_categorical_accuracy: 0.3344\n",
            "Epoch 2/10\n",
            "3907/3907 [==============================] - 20s 5ms/step - loss: 1.4710 - categorical_accuracy: 0.3319 - val_loss: 1.4977 - val_categorical_accuracy: 0.3238\n",
            "Epoch 3/10\n",
            "3907/3907 [==============================] - 19s 5ms/step - loss: 1.4694 - categorical_accuracy: 0.3320 - val_loss: 1.5006 - val_categorical_accuracy: 0.3261\n",
            "Epoch 4/10\n",
            "3907/3907 [==============================] - 18s 5ms/step - loss: 1.4707 - categorical_accuracy: 0.3317 - val_loss: 1.4793 - val_categorical_accuracy: 0.3310\n",
            "Epoch 5/10\n",
            "3907/3907 [==============================] - 20s 5ms/step - loss: 1.4704 - categorical_accuracy: 0.3319 - val_loss: 1.5019 - val_categorical_accuracy: 0.3385\n",
            "Epoch 6/10\n",
            "3907/3907 [==============================] - 20s 5ms/step - loss: 1.4702 - categorical_accuracy: 0.3322 - val_loss: 1.5399 - val_categorical_accuracy: 0.3149\n",
            "Epoch 7/10\n",
            "3907/3907 [==============================] - 21s 5ms/step - loss: 1.4703 - categorical_accuracy: 0.3320 - val_loss: 1.4633 - val_categorical_accuracy: 0.3406\n",
            "Epoch 8/10\n",
            "3907/3907 [==============================] - 18s 5ms/step - loss: 1.4704 - categorical_accuracy: 0.3314 - val_loss: 1.4741 - val_categorical_accuracy: 0.3374\n",
            "Epoch 9/10\n",
            "3907/3907 [==============================] - 19s 5ms/step - loss: 1.4709 - categorical_accuracy: 0.3317 - val_loss: 1.4833 - val_categorical_accuracy: 0.3268\n",
            "Epoch 10/10\n",
            "3907/3907 [==============================] - 21s 5ms/step - loss: 1.4703 - categorical_accuracy: 0.3322 - val_loss: 1.5313 - val_categorical_accuracy: 0.3241\n"
          ]
        }
      ]
    },
    {
      "cell_type": "code",
      "source": [],
      "metadata": {
        "id": "gLDGznKdODCz"
      },
      "execution_count": null,
      "outputs": []
    },
    {
      "cell_type": "markdown",
      "source": [
        "### Plotting the performance while implementing different activations as seen below:"
      ],
      "metadata": {
        "id": "yIA--moIan7R"
      }
    },
    {
      "cell_type": "code",
      "source": [
        "import matplotlib.pyplot as plt\n",
        "\n",
        "acc_relu = history_relu.history['val_categorical_accuracy'][:3]\n",
        "acc_mix = history_mix.history['val_categorical_accuracy'][:3]\n",
        "acc_elu = history_elu.history['val_categorical_accuracy'][:3]\n",
        "\n",
        "plt.bar(['Model ReLU', 'Model tanh', 'Model ELU'], [acc_relu[-1], acc_mix[-1], acc_elu[-1]])\n",
        "plt.ylabel('Accuracy')\n",
        "plt.title('Validation Accuracy after 3 epochs')\n",
        "plt.show()\n"
      ],
      "metadata": {
        "colab": {
          "base_uri": "https://localhost:8080/",
          "height": 452
        },
        "id": "1sJvcuukjfnN",
        "outputId": "0f0ae16e-f81e-41f2-b7f2-15d20c52da13"
      },
      "execution_count": null,
      "outputs": [
        {
          "output_type": "display_data",
          "data": {
            "text/plain": [
              "<Figure size 640x480 with 1 Axes>"
            ],
            "image/png": "[encoded data removed]"
          },
          "metadata": {}
        }
      ]
    },
    {
      "cell_type": "markdown",
      "source": [
        "Based on the observation on the results, it can be deduced that when implementing deeper neural networks, \n",
        "the use of the rectified linear unit (ReLu) activation function results in superior model performance compared to other activation functions.\n",
        "which may be due to the fact that ReLU does not suffer from the Vanishing gradient descent problem as it has a constant gradient for positive input values\n",
        "unlike using activation functions such as tanh and elu.\n"
      ],
      "metadata": {
        "id": "iClkZYJn-teQ"
      }
    },
    {
      "cell_type": "markdown",
      "source": [
        "# Complex Neural Network \n"
      ],
      "metadata": {
        "id": "zuuzf6JCcPsT"
      }
    },
    {
      "cell_type": "markdown",
      "source": [
        "Complex neural networks contain more complex structures and operations  as compared to the other convention models applied earlier in this report, \n",
        "enabling them to characterise complex patterns as well as relationships in data.\n",
        "\n",
        "Recurrent neural network (RNN) types like LSTM and GRU, for instance, feature memory cells and gates that let them distinguish long-term dependencies\n",
        " in sequential input like English sentences or time series. On the contrary, the BERT type of transformer model makes use of self-attention processes\n",
        "  to encode the context of each word in a phrase, which eventually produces strong language representation.\n",
        "\n",
        "The implementation of the Complex models are shown accordingly, displaying their performance over several iterations for different configurations "
      ],
      "metadata": {
        "id": "XSrnGUkCccCh"
      }
    },
    {
      "cell_type": "markdown",
      "source": [
        "### LSTM"
      ],
      "metadata": {
        "id": "5SscHlfYcavQ"
      }
    },
    {
      "cell_type": "markdown",
      "source": [
        "The libraries such as pandas, numpy, and various modules from sklearn, keras and tensorflow that have been imported at the beginning of the report are also used here.\n",
        "\n",
        "The already cleaned data by the defined functions (emj_rem, rmvurl, and clean) were also needed and were leveraged \n",
        "\n",
        "Text data were also preprocessed using Tokenizer and pad_sequences functions from tensorflow\n",
        "\n",
        "Then the Bidirectional LSTM neural network model with batch normalization and dropout layers using Keras was created for the classification.\n",
        "\n",
        "So our model is trained the training set, validated on the validation set, before the predictions are finally generated "
      ],
      "metadata": {
        "id": "Iw-nydM2stbg"
      }
    },
    {
      "cell_type": "code",
      "source": [
        "from tensorflow.keras.preprocessing.text import Tokenizer\n",
        "from tensorflow.keras.preprocessing.sequence import pad_sequences\n",
        "\n",
        "num_words = 20000\n",
        "\n",
        "tokenizer = Tokenizer(num_words=num_words,oov_token=\"unk\")\n",
        "tokenizer.fit_on_texts(data['review_text'].tolist())"
      ],
      "metadata": {
        "id": "Avgte_lhrQL4"
      },
      "execution_count": null,
      "outputs": []
    },
    {
      "cell_type": "code",
      "source": [
        "X_train, X_valid, y_train, y_valid = train_test_split(data.review_text.tolist(), data.rating.tolist(), test_size=0.285714)"
      ],
      "metadata": {
        "id": "w9H8unAUrQL7"
      },
      "execution_count": null,
      "outputs": []
    },
    {
      "cell_type": "code",
      "source": [
        "## Preprocessing the text data\n",
        "\n",
        "x_train = np.array( tokenizer.texts_to_sequences(X_train) )\n",
        "x_valid = np.array( tokenizer.texts_to_sequences(X_valid) )\n",
        "x_test  = np.array( tokenizer.texts_to_sequences(test['review_text'].tolist()) )\n",
        "\n",
        "\n",
        "\n",
        "x_train = pad_sequences(x_train, padding='post', maxlen=40)\n",
        "x_valid = pad_sequences(x_valid, padding='post', maxlen=40)\n",
        "x_test = pad_sequences(x_test, padding='post', maxlen=40)"
      ],
      "metadata": {
        "colab": {
          "base_uri": "https://localhost:8080/"
        },
        "outputId": "c0c6d29d-b3a4-44fa-ff98-8e30cc24a033",
        "id": "6FvfsVmIrQL7"
      },
      "execution_count": null,
      "outputs": [
        {
          "output_type": "stream",
          "name": "stderr",
          "text": [
            "<ipython-input-13-7ddd314c7987>:1: VisibleDeprecationWarning: Creating an ndarray from ragged nested sequences (which is a list-or-tuple of lists-or-tuples-or ndarrays with different lengths or shapes) is deprecated. If you meant to do this, you must specify 'dtype=object' when creating the ndarray.\n",
            "  x_train = np.array( tokenizer.texts_to_sequences(X_train) )\n",
            "<ipython-input-13-7ddd314c7987>:2: VisibleDeprecationWarning: Creating an ndarray from ragged nested sequences (which is a list-or-tuple of lists-or-tuples-or ndarrays with different lengths or shapes) is deprecated. If you meant to do this, you must specify 'dtype=object' when creating the ndarray.\n",
            "  x_valid = np.array( tokenizer.texts_to_sequences(X_valid) )\n",
            "<ipython-input-13-7ddd314c7987>:3: VisibleDeprecationWarning: Creating an ndarray from ragged nested sequences (which is a list-or-tuple of lists-or-tuples-or ndarrays with different lengths or shapes) is deprecated. If you meant to do this, you must specify 'dtype=object' when creating the ndarray.\n",
            "  x_test  = np.array( tokenizer.texts_to_sequences(test['review_text'].tolist()) )\n"
          ]
        }
      ]
    },
    {
      "cell_type": "code",
      "source": [
        "train_ds = tf.data.Dataset.from_tensor_slices((x_train, np.asarray(tf.keras.utils.to_categorical(y_train))))\n",
        "valid_ds = tf.data.Dataset.from_tensor_slices((x_valid, np.asarray(tf.keras.utils.to_categorical(y_valid))))"
      ],
      "metadata": {
        "id": "Mknexl1XrQL8"
      },
      "execution_count": null,
      "outputs": []
    },
    {
      "cell_type": "code",
      "source": [
        "## Building the model\n",
        "\n",
        "# The accuracy metrics implemented here are categorical cross-entropy loss and categorical accuracy. \n",
        "# The number of epochs is also set to 30. \n",
        "\n",
        "from tensorflow.keras import regularizers\n",
        "max_features =20000\n",
        "embedding_dim =64\n",
        "sequence_length = 40\n",
        "\n",
        "model = tf.keras.Sequential()\n",
        "model.add(tf.keras.layers.Embedding(max_features +1, embedding_dim, input_length=sequence_length,\\\n",
        "                                    embeddings_regularizer = regularizers.l2(0.0005)))                                    \n",
        "\n",
        "model.add(tf.keras.layers.Bidirectional(tf.keras.layers.LSTM(units=64, return_sequences=True)))\n",
        "model.add(tf.keras.layers.BatchNormalization())\n",
        "model.add(tf.keras.layers.Dropout(0.2))\n",
        "\n",
        "model.add(tf.keras.layers.Bidirectional(tf.keras.layers.LSTM(units=128)))\n",
        "model.add(tf.keras.layers.BatchNormalization())\n",
        "model.add(tf.keras.layers.Dropout(0.2))\n",
        "\n",
        "model.add(tf.keras.layers.Dense(units=32, activation=\"relu\"))\n",
        "model.add(tf.keras.layers.BatchNormalization())\n",
        "model.add(tf.keras.layers.Dropout(0.2))\n",
        "\n",
        "model.add(tf.keras.layers.Dense(6, activation='softmax',\\\n",
        "                                kernel_regularizer=regularizers.l2(0.001),\\\n",
        "                                bias_regularizer=regularizers.l2(0.001),))\n",
        "\n",
        "model.compile(loss=tf.keras.losses.CategoricalCrossentropy(from_logits=True), optimizer='Nadam', metrics=[\"CategoricalAccuracy\"])"
      ],
      "metadata": {
        "id": "mzwrrQvnrQL9"
      },
      "execution_count": null,
      "outputs": []
    },
    {
      "cell_type": "code",
      "source": [
        "epochs = 30\n",
        "# Fit the model using the train and test datasets.\n",
        "#history = model.fit(x_train, train_labels,validation_data= (x_test,test_labels),epochs=epochs )\n",
        "history = model.fit(train_ds.shuffle(2000).batch(128),\n",
        "                    epochs= epochs ,\n",
        "                    validation_data=valid_ds.batch(128),\n",
        "                    verbose=1)"
      ],
      "metadata": {
        "colab": {
          "base_uri": "https://localhost:8080/"
        },
        "outputId": "80e297d9-fdac-4e59-bf2f-8ded658ad80b",
        "id": "IUl4vCxbrQL9"
      },
      "execution_count": null,
      "outputs": [
        {
          "output_type": "stream",
          "name": "stdout",
          "text": [
            "Epoch 1/30\n"
          ]
        },
        {
          "output_type": "stream",
          "name": "stderr",
          "text": [
            "/usr/local/lib/python3.9/dist-packages/keras/backend.py:5561: UserWarning: \"`categorical_crossentropy` received `from_logits=True`, but the `output` argument was produced by a Softmax activation and thus does not represent logits. Was this intended?\n",
            "  output, from_logits = _get_logits(\n"
          ]
        },
        {
          "output_type": "stream",
          "name": "stdout",
          "text": [
            "3907/3907 [==============================] - 113s 24ms/step - loss: 1.2931 - categorical_accuracy: 0.4774 - val_loss: 1.2043 - val_categorical_accuracy: 0.5073\n",
            "Epoch 2/30\n",
            "3907/3907 [==============================] - 92s 24ms/step - loss: 1.2014 - categorical_accuracy: 0.5076 - val_loss: 1.1780 - val_categorical_accuracy: 0.5172\n",
            "Epoch 3/30\n",
            "3907/3907 [==============================] - 93s 24ms/step - loss: 1.1815 - categorical_accuracy: 0.5166 - val_loss: 1.2049 - val_categorical_accuracy: 0.5029\n",
            "Epoch 4/30\n",
            "3907/3907 [==============================] - 93s 24ms/step - loss: 1.1696 - categorical_accuracy: 0.5224 - val_loss: 1.1622 - val_categorical_accuracy: 0.5249\n",
            "Epoch 5/30\n",
            "3907/3907 [==============================] - 92s 24ms/step - loss: 1.1622 - categorical_accuracy: 0.5265 - val_loss: 1.1588 - val_categorical_accuracy: 0.5271\n",
            "Epoch 6/30\n",
            "3907/3907 [==============================] - 92s 24ms/step - loss: 1.1564 - categorical_accuracy: 0.5294 - val_loss: 1.1566 - val_categorical_accuracy: 0.5287\n",
            "Epoch 7/30\n",
            "3907/3907 [==============================] - 91s 23ms/step - loss: 1.1523 - categorical_accuracy: 0.5328 - val_loss: 1.1611 - val_categorical_accuracy: 0.5274\n",
            "Epoch 8/30\n",
            "3907/3907 [==============================] - 93s 24ms/step - loss: 1.1485 - categorical_accuracy: 0.5352 - val_loss: 1.1623 - val_categorical_accuracy: 0.5284\n",
            "Epoch 9/30\n",
            "3907/3907 [==============================] - 91s 23ms/step - loss: 1.1464 - categorical_accuracy: 0.5377 - val_loss: 1.1585 - val_categorical_accuracy: 0.5313\n",
            "Epoch 10/30\n",
            "3907/3907 [==============================] - 93s 24ms/step - loss: 1.1437 - categorical_accuracy: 0.5397 - val_loss: 1.1550 - val_categorical_accuracy: 0.5339\n",
            "Epoch 11/30\n",
            "3907/3907 [==============================] - 91s 23ms/step - loss: 1.1416 - categorical_accuracy: 0.5419 - val_loss: 1.1871 - val_categorical_accuracy: 0.5211\n",
            "Epoch 12/30\n",
            "3907/3907 [==============================] - 91s 23ms/step - loss: 1.1387 - categorical_accuracy: 0.5433 - val_loss: 1.1645 - val_categorical_accuracy: 0.5318\n",
            "Epoch 13/30\n",
            "3907/3907 [==============================] - 92s 23ms/step - loss: 1.1381 - categorical_accuracy: 0.5442 - val_loss: 1.1685 - val_categorical_accuracy: 0.5284\n",
            "Epoch 14/30\n",
            "3907/3907 [==============================] - 89s 23ms/step - loss: 1.1361 - categorical_accuracy: 0.5454 - val_loss: 1.1689 - val_categorical_accuracy: 0.5306\n",
            "Epoch 15/30\n",
            "3907/3907 [==============================] - 91s 23ms/step - loss: 1.1343 - categorical_accuracy: 0.5466 - val_loss: 1.1783 - val_categorical_accuracy: 0.5279\n",
            "Epoch 16/30\n",
            "3907/3907 [==============================] - 88s 23ms/step - loss: 1.1326 - categorical_accuracy: 0.5480 - val_loss: 1.1750 - val_categorical_accuracy: 0.5288\n",
            "Epoch 17/30\n",
            "3907/3907 [==============================] - 89s 23ms/step - loss: 1.1315 - categorical_accuracy: 0.5500 - val_loss: 1.1777 - val_categorical_accuracy: 0.5263\n",
            "Epoch 18/30\n",
            "3907/3907 [==============================] - 91s 23ms/step - loss: 1.1291 - categorical_accuracy: 0.5512 - val_loss: 1.1767 - val_categorical_accuracy: 0.5324\n",
            "Epoch 19/30\n",
            "3907/3907 [==============================] - 89s 23ms/step - loss: 1.1281 - categorical_accuracy: 0.5517 - val_loss: 1.1745 - val_categorical_accuracy: 0.5296\n",
            "Epoch 20/30\n",
            "3907/3907 [==============================] - 91s 23ms/step - loss: 1.1272 - categorical_accuracy: 0.5525 - val_loss: 1.1903 - val_categorical_accuracy: 0.5282\n",
            "Epoch 21/30\n",
            "3907/3907 [==============================] - 91s 23ms/step - loss: 1.1258 - categorical_accuracy: 0.5534 - val_loss: 1.1749 - val_categorical_accuracy: 0.5326\n",
            "Epoch 22/30\n",
            "3907/3907 [==============================] - 90s 23ms/step - loss: 1.1234 - categorical_accuracy: 0.5547 - val_loss: 1.1889 - val_categorical_accuracy: 0.5282\n",
            "Epoch 23/30\n",
            "3907/3907 [==============================] - 94s 24ms/step - loss: 1.1236 - categorical_accuracy: 0.5550 - val_loss: 1.1818 - val_categorical_accuracy: 0.5293\n",
            "Epoch 24/30\n",
            "3907/3907 [==============================] - 92s 24ms/step - loss: 1.1214 - categorical_accuracy: 0.5565 - val_loss: 1.1772 - val_categorical_accuracy: 0.5329\n",
            "Epoch 25/30\n",
            "3907/3907 [==============================] - 92s 23ms/step - loss: 1.1205 - categorical_accuracy: 0.5575 - val_loss: 1.1828 - val_categorical_accuracy: 0.5298\n",
            "Epoch 26/30\n",
            "3907/3907 [==============================] - 90s 23ms/step - loss: 1.1186 - categorical_accuracy: 0.5580 - val_loss: 1.1858 - val_categorical_accuracy: 0.5270\n",
            "Epoch 27/30\n",
            "3907/3907 [==============================] - 98s 25ms/step - loss: 1.1176 - categorical_accuracy: 0.5587 - val_loss: 1.1833 - val_categorical_accuracy: 0.5286\n",
            "Epoch 28/30\n",
            "3907/3907 [==============================] - 87s 22ms/step - loss: 1.1164 - categorical_accuracy: 0.5593 - val_loss: 1.1814 - val_categorical_accuracy: 0.5307\n",
            "Epoch 29/30\n",
            "3907/3907 [==============================] - 91s 23ms/step - loss: 1.1152 - categorical_accuracy: 0.5609 - val_loss: 1.1857 - val_categorical_accuracy: 0.5301\n",
            "Epoch 30/30\n",
            "3907/3907 [==============================] - 93s 24ms/step - loss: 1.1134 - categorical_accuracy: 0.5612 - val_loss: 1.1954 - val_categorical_accuracy: 0.5265\n"
          ]
        }
      ]
    },
    {
      "cell_type": "code",
      "source": [
        "predictions = model.predict(x_test)\n",
        "predictions_res = predictions.argmax(axis=1)\n",
        "print(predictions_res)"
      ],
      "metadata": {
        "colab": {
          "base_uri": "https://localhost:8080/"
        },
        "id": "TD3DvosNj0eT",
        "outputId": "de947525-1eb0-46a5-b26c-aa8e7e0c0e22"
      },
      "execution_count": null,
      "outputs": [
        {
          "output_type": "stream",
          "name": "stdout",
          "text": [
            "6250/6250 [==============================] - 39s 6ms/step\n",
            "[3 5 5 ... 4 4 4]\n"
          ]
        }
      ]
    },
    {
      "cell_type": "code",
      "source": [
        "predictions_results = pd.DataFrame(test['review_id'], columns=['review_id'])"
      ],
      "metadata": {
        "id": "g6ufLAuklKwA"
      },
      "execution_count": null,
      "outputs": []
    },
    {
      "cell_type": "code",
      "source": [
        "predictions_results2 = pd.DataFrame(predictions_res, columns=['rating'])"
      ],
      "metadata": {
        "id": "JMQshyYPmGEo"
      },
      "execution_count": null,
      "outputs": []
    },
    {
      "cell_type": "code",
      "source": [
        "predictions_results = pd.concat([predictions_results, predictions_results2], axis=1)"
      ],
      "metadata": {
        "id": "0nWqLe61li3t"
      },
      "execution_count": null,
      "outputs": []
    },
    {
      "cell_type": "code",
      "source": [
        "predictions_results"
      ],
      "metadata": {
        "colab": {
          "base_uri": "https://localhost:8080/",
          "height": 423
        },
        "id": "h_aLfnAymznh",
        "outputId": "8139ac0a-6cf4-4c84-8c7d-b96a023959c1"
      },
      "execution_count": null,
      "outputs": [
        {
          "output_type": "execute_result",
          "data": {
            "text/plain": [
              "                                review_id  rating\n",
              "0       16c32b9bb0142734c60f8b028f281c5dd       3\n",
              "1       1f86ec340856f1097c922d33aed48d4ea       5\n",
              "2       14a20b34f27611e45bd75e24de6a06324       5\n",
              "3       1b2e5b069e4f440d152ae6d48e3f111ac       4\n",
              "4       132aec4dfb13a2f8032a7431023dd728f       3\n",
              "...                                   ...     ...\n",
              "199995  1e65b0ab60fb0fc5361da7c3a7a45bc2a       4\n",
              "199996  176c31b9581191138cc477b0df2f82b09       3\n",
              "199997  17af2bb1902e2b7f6a5004e7bbe285139       4\n",
              "199998  1e13fa3ce7e49dfd190bd0a02c36efe61       4\n",
              "199999  15f7e3747bb4b66f81c14a42a8d6e2403       4\n",
              "\n",
              "[200000 rows x 2 columns]"
            ],
            "text/html": [
              "\n",
              "  <div id=\"df-d1030135-93c7-45e2-9688-242c7e599fc3\">\n",
              "    <div class=\"colab-df-container\">\n",
              "      <div>\n",
              "<style scoped>\n",
              "    .dataframe tbody tr th:only-of-type {\n",
              "        vertical-align: middle;\n",
              "    }\n",
              "\n",
              "    .dataframe tbody tr th {\n",
              "        vertical-align: top;\n",
              "    }\n",
              "\n",
              "    .dataframe thead th {\n",
              "        text-align: right;\n",
              "    }\n",
              "</style>\n",
              "<table border=\"1\" class=\"dataframe\">\n",
              "  <thead>\n",
              "    <tr style=\"text-align: right;\">\n",
              "      <th></th>\n",
              "      <th>review_id</th>\n",
              "      <th>rating</th>\n",
              "    </tr>\n",
              "  </thead>\n",
              "  <tbody>\n",
              "    <tr>\n",
              "      <th>0</th>\n",
              "      <td>16c32b9bb0142734c60f8b028f281c5dd</td>\n",
              "      <td>3</td>\n",
              "    </tr>\n",
              "    <tr>\n",
              "      <th>1</th>\n",
              "      <td>1f86ec340856f1097c922d33aed48d4ea</td>\n",
              "      <td>5</td>\n",
              "    </tr>\n",
              "    <tr>\n",
              "      <th>2</th>\n",
              "      <td>14a20b34f27611e45bd75e24de6a06324</td>\n",
              "      <td>5</td>\n",
              "    </tr>\n",
              "    <tr>\n",
              "      <th>3</th>\n",
              "      <td>1b2e5b069e4f440d152ae6d48e3f111ac</td>\n",
              "      <td>4</td>\n",
              "    </tr>\n",
              "    <tr>\n",
              "      <th>4</th>\n",
              "      <td>132aec4dfb13a2f8032a7431023dd728f</td>\n",
              "      <td>3</td>\n",
              "    </tr>\n",
              "    <tr>\n",
              "      <th>...</th>\n",
              "      <td>...</td>\n",
              "      <td>...</td>\n",
              "    </tr>\n",
              "    <tr>\n",
              "      <th>199995</th>\n",
              "      <td>1e65b0ab60fb0fc5361da7c3a7a45bc2a</td>\n",
              "      <td>4</td>\n",
              "    </tr>\n",
              "    <tr>\n",
              "      <th>199996</th>\n",
              "      <td>176c31b9581191138cc477b0df2f82b09</td>\n",
              "      <td>3</td>\n",
              "    </tr>\n",
              "    <tr>\n",
              "      <th>199997</th>\n",
              "      <td>17af2bb1902e2b7f6a5004e7bbe285139</td>\n",
              "      <td>4</td>\n",
              "    </tr>\n",
              "    <tr>\n",
              "      <th>199998</th>\n",
              "      <td>1e13fa3ce7e49dfd190bd0a02c36efe61</td>\n",
              "      <td>4</td>\n",
              "    </tr>\n",
              "    <tr>\n",
              "      <th>199999</th>\n",
              "      <td>15f7e3747bb4b66f81c14a42a8d6e2403</td>\n",
              "      <td>4</td>\n",
              "    </tr>\n",
              "  </tbody>\n",
              "</table>\n",
              "<p>200000 rows × 2 columns</p>\n",
              "</div>\n",
              "      <button class=\"colab-df-convert\" onclick=\"convertToInteractive('df-d1030135-93c7-45e2-9688-242c7e599fc3')\"\n",
              "              title=\"Convert this dataframe to an interactive table.\"\n",
              "              style=\"display:none;\">\n",
              "        \n",
              "  <svg xmlns=\"http://www.w3.org/2000/svg\" height=\"24px\"viewBox=\"0 0 24 24\"\n",
              "       width=\"24px\">\n",
              "    <path d=\"M0 0h24v24H0V0z\" fill=\"none\"/>\n",
              "    <path d=\"M18.56 5.44l.94 2.06.94-2.06 2.06-.94-2.06-.94-.94-2.06-.94 2.06-2.06.94zm-11 1L8.5 8.5l.94-2.06 2.06-.94-2.06-.94L8.5 2.5l-.94 2.06-2.06.94zm10 10l.94 2.06.94-2.06 2.06-.94-2.06-.94-.94-2.06-.94 2.06-2.06.94z\"/><path d=\"M17.41 7.96l-1.37-1.37c-.4-.4-.92-.59-1.43-.59-.52 0-1.04.2-1.43.59L10.3 9.45l-7.72 7.72c-.78.78-.78 2.05 0 2.83L4 21.41c.39.39.9.59 1.41.59.51 0 1.02-.2 1.41-.59l7.78-7.78 2.81-2.81c.8-.78.8-2.07 0-2.86zM5.41 20L4 18.59l7.72-7.72 1.47 1.35L5.41 20z\"/>\n",
              "  </svg>\n",
              "      </button>\n",
              "      \n",
              "  <style>\n",
              "    .colab-df-container {\n",
              "      display:flex;\n",
              "      flex-wrap:wrap;\n",
              "      gap: 12px;\n",
              "    }\n",
              "\n",
              "    .colab-df-convert {\n",
              "      background-color: #E8F0FE;\n",
              "      border: none;\n",
              "      border-radius: 50%;\n",
              "      cursor: pointer;\n",
              "      display: none;\n",
              "      fill: #1967D2;\n",
              "      height: 32px;\n",
              "      padding: 0 0 0 0;\n",
              "      width: 32px;\n",
              "    }\n",
              "\n",
              "    .colab-df-convert:hover {\n",
              "      background-color: #E2EBFA;\n",
              "      box-shadow: 0px 1px 2px rgba(60, 64, 67, 0.3), 0px 1px 3px 1px rgba(60, 64, 67, 0.15);\n",
              "      fill: #174EA6;\n",
              "    }\n",
              "\n",
              "    [theme=dark] .colab-df-convert {\n",
              "      background-color: #3B4455;\n",
              "      fill: #D2E3FC;\n",
              "    }\n",
              "\n",
              "    [theme=dark] .colab-df-convert:hover {\n",
              "      background-color: #434B5C;\n",
              "      box-shadow: 0px 1px 3px 1px rgba(0, 0, 0, 0.15);\n",
              "      filter: drop-shadow(0px 1px 2px rgba(0, 0, 0, 0.3));\n",
              "      fill: #FFFFFF;\n",
              "    }\n",
              "  </style>\n",
              "\n",
              "      <script>\n",
              "        const buttonEl =\n",
              "          document.querySelector('#df-d1030135-93c7-45e2-9688-242c7e599fc3 button.colab-df-convert');\n",
              "        buttonEl.style.display =\n",
              "          google.colab.kernel.accessAllowed ? 'block' : 'none';\n",
              "\n",
              "        async function convertToInteractive(key) {\n",
              "          const element = document.querySelector('#df-d1030135-93c7-45e2-9688-242c7e599fc3');\n",
              "          const dataTable =\n",
              "            await google.colab.kernel.invokeFunction('convertToInteractive',\n",
              "                                                     [key], {});\n",
              "          if (!dataTable) return;\n",
              "\n",
              "          const docLinkHtml = 'Like what you see? Visit the ' +\n",
              "            '<a target=\"_blank\" href=https://colab.research.google.com/notebooks/data_table.ipynb>data table notebook</a>'\n",
              "            + ' to learn more about interactive tables.';\n",
              "          element.innerHTML = '';\n",
              "          dataTable['output_type'] = 'display_data';\n",
              "          await google.colab.output.renderOutput(dataTable, element);\n",
              "          const docLink = document.createElement('div');\n",
              "          docLink.innerHTML = docLinkHtml;\n",
              "          element.appendChild(docLink);\n",
              "        }\n",
              "      </script>\n",
              "    </div>\n",
              "  </div>\n",
              "  "
            ]
          },
          "metadata": {},
          "execution_count": 70
        }
      ]
    },
    {
      "cell_type": "code",
      "source": [
        "predictions_results.to_csv('results.csv', index=False)"
      ],
      "metadata": {
        "id": "nO-Op-VBogkx"
      },
      "execution_count": null,
      "outputs": []
    },
    {
      "cell_type": "code",
      "source": [],
      "metadata": {
        "id": "RbOKiwY4iUUa"
      },
      "execution_count": null,
      "outputs": []
    },
    {
      "cell_type": "markdown",
      "source": [
        "# GRU (Gated recurrent unit)\n",
        "\n",
        "\n"
      ],
      "metadata": {
        "id": "Qu2-Rb4RiRVq"
      }
    },
    {
      "cell_type": "markdown",
      "source": [
        "The libraries and modules that have been imported at the beginning of the report are also used here.\n",
        "\n",
        "The already cleaned data by the defined functions (emj_rem, rmvurl, and clean) were also needed and were leveraged to clean the test and training data\n",
        "\n",
        "Text data were also preprocessed using Tokenizer and pad_sequences functions from tensorflow\n",
        "\n",
        "Then the GRU model with dropout layers using Keras was created for the classification.\n",
        "\n",
        "The model is:\n",
        "\n",
        "* trained on the training set\n",
        "* validated on the validation set \n",
        "* And predictions are finally generated"
      ],
      "metadata": {
        "id": "D9G3avXoiRmO"
      }
    },
    {
      "cell_type": "code",
      "source": [
        "## Cleaning the training data\n",
        "\n",
        "data['words_num'] = data.review_text.apply(lambda y:len(str(y).split()))\n",
        "train_max_length = data['words_num'].max()\n",
        "\n",
        "data.review_text = data.review_text.apply(emj_rem)\n",
        "data.review_text = data.review_text.apply(rmvurl)\n",
        "data.review_text = data.review_text.apply(clean)"
      ],
      "metadata": {
        "id": "Hs8Rc0CawxSK"
      },
      "execution_count": null,
      "outputs": []
    },
    {
      "cell_type": "code",
      "source": [
        "## Cleaning the test data\n",
        "\n",
        "test['words_num'] = test.review_text.apply(lambda y:len(str(y).split()))\n",
        "test_max_length = test['words_num'].max()\n",
        "\n",
        "test.review_text = test.review_text.apply(emj_rem)\n",
        "test.review_text = test.review_text.apply(rmvurl)\n",
        "test.review_text = test.review_text.apply(clean)"
      ],
      "metadata": {
        "id": "slUW40rOyI6d"
      },
      "execution_count": null,
      "outputs": []
    },
    {
      "cell_type": "code",
      "source": [
        "print('Training data has highest length of: ', train_max_length)\n",
        "print('Testing data has highest length of: ', test_max_length)"
      ],
      "metadata": {
        "colab": {
          "base_uri": "https://localhost:8080/"
        },
        "id": "fRL9F4ikzACW",
        "outputId": "154bf8fd-65ba-4113-a938-be94f769521e"
      },
      "execution_count": null,
      "outputs": [
        {
          "output_type": "stream",
          "name": "stdout",
          "text": [
            "Training data has highest length of:  3493\n",
            "Testing data has highest length of:  2953\n"
          ]
        }
      ]
    },
    {
      "cell_type": "code",
      "source": [
        "# The text is pre processed using the tokenizer and the pad_sequence\n",
        "from tensorflow.keras.preprocessing.text import Tokenizer\n",
        "from tensorflow.keras.preprocessing.sequence import pad_sequences\n",
        "\n",
        "num_words = 20000\n",
        "\n",
        "tokenizer = Tokenizer(num_words=num_words,oov_token=\"unk\")\n",
        "tokenizer.fit_on_texts(data['review_text'].tolist())"
      ],
      "metadata": {
        "id": "o7lOT9FcxfwN"
      },
      "execution_count": null,
      "outputs": []
    },
    {
      "cell_type": "code",
      "source": [
        "X_train, X_valid, y_train, y_valid = train_test_split(data.review_text.tolist(), data.rating.tolist(), test_size=0.285714)"
      ],
      "metadata": {
        "id": "V7tFxVp1xgAy"
      },
      "execution_count": null,
      "outputs": []
    },
    {
      "cell_type": "code",
      "source": [
        "x_train = np.array( tokenizer.texts_to_sequences(X_train) )\n",
        "x_valid = np.array( tokenizer.texts_to_sequences(X_valid) )\n",
        "x_test  = np.array( tokenizer.texts_to_sequences(test['review_text'].tolist()) )\n",
        "\n",
        "\n",
        "\n",
        "x_train = pad_sequences(x_train, padding='post', maxlen=40)\n",
        "x_valid = pad_sequences(x_valid, padding='post', maxlen=40)\n",
        "x_test = pad_sequences(x_test, padding='post', maxlen=40)"
      ],
      "metadata": {
        "colab": {
          "base_uri": "https://localhost:8080/"
        },
        "id": "yjaA9-t81fjK",
        "outputId": "a1d26167-2932-4bf1-f9d2-71797538b696"
      },
      "execution_count": null,
      "outputs": [
        {
          "output_type": "stream",
          "name": "stderr",
          "text": [
            "<ipython-input-13-7ddd314c7987>:1: VisibleDeprecationWarning: Creating an ndarray from ragged nested sequences (which is a list-or-tuple of lists-or-tuples-or ndarrays with different lengths or shapes) is deprecated. If you meant to do this, you must specify 'dtype=object' when creating the ndarray.\n",
            "  x_train = np.array( tokenizer.texts_to_sequences(X_train) )\n",
            "<ipython-input-13-7ddd314c7987>:2: VisibleDeprecationWarning: Creating an ndarray from ragged nested sequences (which is a list-or-tuple of lists-or-tuples-or ndarrays with different lengths or shapes) is deprecated. If you meant to do this, you must specify 'dtype=object' when creating the ndarray.\n",
            "  x_valid = np.array( tokenizer.texts_to_sequences(X_valid) )\n",
            "<ipython-input-13-7ddd314c7987>:3: VisibleDeprecationWarning: Creating an ndarray from ragged nested sequences (which is a list-or-tuple of lists-or-tuples-or ndarrays with different lengths or shapes) is deprecated. If you meant to do this, you must specify 'dtype=object' when creating the ndarray.\n",
            "  x_test  = np.array( tokenizer.texts_to_sequences(test['review_text'].tolist()) )\n"
          ]
        }
      ]
    },
    {
      "cell_type": "code",
      "source": [
        "train_ds = tf.data.Dataset.from_tensor_slices((x_train, np.asarray(tf.keras.utils.to_categorical(y_train))))\n",
        "valid_ds = tf.data.Dataset.from_tensor_slices((x_valid, np.asarray(tf.keras.utils.to_categorical(y_valid))))"
      ],
      "metadata": {
        "id": "Ovp85TGA2FZO"
      },
      "execution_count": null,
      "outputs": []
    },
    {
      "cell_type": "code",
      "source": [
        "## Building the model\n",
        "\n",
        "from tensorflow.keras import regularizers\n",
        "max_features =20000\n",
        "embedding_dim =64\n",
        "sequence_length = 40\n",
        "\n",
        "model = tf.keras.Sequential()\n",
        "model.add(tf.keras.layers.Embedding(max_features +1, embedding_dim, input_length=sequence_length,\\\n",
        "                                    embeddings_regularizer = regularizers.l2(0.0005)))    \n",
        "model.add(tf.keras.layers.Dropout(0.2))                                \n",
        "\n",
        "model.add(tf.keras.layers.GRU(units=64))\n",
        "model.add(tf.keras.layers.Dropout(0.2))\n",
        "\n",
        "model.add(tf.keras.layers.Dense(6, activation='sigmoid',\\\n",
        "                                kernel_regularizer=regularizers.l2(0.001),\\\n",
        "                                bias_regularizer=regularizers.l2(0.001),))\n",
        "\n",
        "model.compile(loss=tf.keras.losses.CategoricalCrossentropy(from_logits=True), optimizer='Nadam', metrics=[\"CategoricalAccuracy\"])"
      ],
      "metadata": {
        "id": "pVj5ERKP3ooV"
      },
      "execution_count": null,
      "outputs": []
    },
    {
      "cell_type": "code",
      "source": [
        "epochs = 30\n",
        "# Fit the model using the train and test datasets.\n",
        "#history = model.fit(x_train, train_labels,validation_data= (x_test,test_labels),epochs=epochs )\n",
        "history = model.fit(train_ds.shuffle(2000).batch(128),\n",
        "                    epochs= epochs ,\n",
        "                    validation_data=valid_ds.batch(128),\n",
        "                    verbose=1)"
      ],
      "metadata": {
        "colab": {
          "base_uri": "https://localhost:8080/"
        },
        "id": "qtwTAeFyEsJ5",
        "outputId": "9b8e4b56-503c-4f85-ced3-97e3b146a27c"
      },
      "execution_count": null,
      "outputs": [
        {
          "output_type": "stream",
          "name": "stdout",
          "text": [
            "Epoch 1/30\n"
          ]
        },
        {
          "output_type": "stream",
          "name": "stderr",
          "text": [
            "/usr/local/lib/python3.9/dist-packages/keras/backend.py:5561: UserWarning: \"`categorical_crossentropy` received `from_logits=True`, but the `output` argument was produced by a Softmax activation and thus does not represent logits. Was this intended?\n",
            "  output, from_logits = _get_logits(\n"
          ]
        },
        {
          "output_type": "stream",
          "name": "stdout",
          "text": [
            "3907/3907 [==============================] - 43s 9ms/step - loss: 1.2747 - categorical_accuracy: 0.4692 - val_loss: 1.2345 - val_categorical_accuracy: 0.4846\n",
            "Epoch 2/30\n",
            "3907/3907 [==============================] - 33s 8ms/step - loss: 1.2248 - categorical_accuracy: 0.4932 - val_loss: 1.2066 - val_categorical_accuracy: 0.5021\n",
            "Epoch 3/30\n",
            "3907/3907 [==============================] - 33s 8ms/step - loss: 1.2137 - categorical_accuracy: 0.5017 - val_loss: 1.1987 - val_categorical_accuracy: 0.5086\n",
            "Epoch 4/30\n",
            "3907/3907 [==============================] - 31s 8ms/step - loss: 1.2070 - categorical_accuracy: 0.5062 - val_loss: 1.1943 - val_categorical_accuracy: 0.5125\n",
            "Epoch 5/30\n",
            "3907/3907 [==============================] - 33s 8ms/step - loss: 1.2028 - categorical_accuracy: 0.5091 - val_loss: 1.1894 - val_categorical_accuracy: 0.5151\n",
            "Epoch 6/30\n",
            "3907/3907 [==============================] - 33s 8ms/step - loss: 1.2004 - categorical_accuracy: 0.5107 - val_loss: 1.1906 - val_categorical_accuracy: 0.5145\n",
            "Epoch 7/30\n",
            "3907/3907 [==============================] - 31s 8ms/step - loss: 1.1984 - categorical_accuracy: 0.5131 - val_loss: 1.1889 - val_categorical_accuracy: 0.5174\n",
            "Epoch 8/30\n",
            "3907/3907 [==============================] - 32s 8ms/step - loss: 1.1965 - categorical_accuracy: 0.5142 - val_loss: 1.1839 - val_categorical_accuracy: 0.5201\n",
            "Epoch 9/30\n",
            "3907/3907 [==============================] - 32s 8ms/step - loss: 1.1959 - categorical_accuracy: 0.5148 - val_loss: 1.1834 - val_categorical_accuracy: 0.5206\n",
            "Epoch 10/30\n",
            "3907/3907 [==============================] - 31s 8ms/step - loss: 1.1945 - categorical_accuracy: 0.5161 - val_loss: 1.1885 - val_categorical_accuracy: 0.5188\n",
            "Epoch 11/30\n",
            "3907/3907 [==============================] - 33s 8ms/step - loss: 1.1931 - categorical_accuracy: 0.5166 - val_loss: 1.1840 - val_categorical_accuracy: 0.5211\n",
            "Epoch 12/30\n",
            "3907/3907 [==============================] - 31s 8ms/step - loss: 1.1929 - categorical_accuracy: 0.5172 - val_loss: 1.1824 - val_categorical_accuracy: 0.5219\n",
            "Epoch 13/30\n",
            "3907/3907 [==============================] - 32s 8ms/step - loss: 1.1913 - categorical_accuracy: 0.5185 - val_loss: 1.1839 - val_categorical_accuracy: 0.5229\n",
            "Epoch 14/30\n",
            "3907/3907 [==============================] - 32s 8ms/step - loss: 1.1911 - categorical_accuracy: 0.5186 - val_loss: 1.1828 - val_categorical_accuracy: 0.5239\n",
            "Epoch 15/30\n",
            "3907/3907 [==============================] - 31s 8ms/step - loss: 1.1908 - categorical_accuracy: 0.5193 - val_loss: 1.1867 - val_categorical_accuracy: 0.5192\n",
            "Epoch 16/30\n",
            "3907/3907 [==============================] - 33s 8ms/step - loss: 1.1903 - categorical_accuracy: 0.5202 - val_loss: 1.1836 - val_categorical_accuracy: 0.5234\n",
            "Epoch 17/30\n",
            "3907/3907 [==============================] - 31s 8ms/step - loss: 1.1891 - categorical_accuracy: 0.5210 - val_loss: 1.1817 - val_categorical_accuracy: 0.5245\n",
            "Epoch 18/30\n",
            "3907/3907 [==============================] - 32s 8ms/step - loss: 1.1888 - categorical_accuracy: 0.5211 - val_loss: 1.1823 - val_categorical_accuracy: 0.5238\n",
            "Epoch 19/30\n",
            "3907/3907 [==============================] - 32s 8ms/step - loss: 1.1879 - categorical_accuracy: 0.5224 - val_loss: 1.1835 - val_categorical_accuracy: 0.5254\n",
            "Epoch 20/30\n",
            "3907/3907 [==============================] - 31s 8ms/step - loss: 1.1881 - categorical_accuracy: 0.5221 - val_loss: 1.1832 - val_categorical_accuracy: 0.5248\n",
            "Epoch 21/30\n",
            "3907/3907 [==============================] - 32s 8ms/step - loss: 1.1881 - categorical_accuracy: 0.5223 - val_loss: 1.1817 - val_categorical_accuracy: 0.5257\n",
            "Epoch 22/30\n",
            "3907/3907 [==============================] - 31s 8ms/step - loss: 1.1873 - categorical_accuracy: 0.5234 - val_loss: 1.1825 - val_categorical_accuracy: 0.5258\n",
            "Epoch 23/30\n",
            "3907/3907 [==============================] - 32s 8ms/step - loss: 1.1877 - categorical_accuracy: 0.5233 - val_loss: 1.1815 - val_categorical_accuracy: 0.5262\n",
            "Epoch 24/30\n",
            "3907/3907 [==============================] - 32s 8ms/step - loss: 1.1872 - categorical_accuracy: 0.5244 - val_loss: 1.1829 - val_categorical_accuracy: 0.5253\n",
            "Epoch 25/30\n",
            "3907/3907 [==============================] - 31s 8ms/step - loss: 1.1866 - categorical_accuracy: 0.5240 - val_loss: 1.1806 - val_categorical_accuracy: 0.5279\n",
            "Epoch 26/30\n",
            "3907/3907 [==============================] - 32s 8ms/step - loss: 1.1863 - categorical_accuracy: 0.5248 - val_loss: 1.1842 - val_categorical_accuracy: 0.5241\n",
            "Epoch 27/30\n",
            "3907/3907 [==============================] - 31s 8ms/step - loss: 1.1860 - categorical_accuracy: 0.5247 - val_loss: 1.1827 - val_categorical_accuracy: 0.5254\n",
            "Epoch 28/30\n",
            "3907/3907 [==============================] - 38s 10ms/step - loss: 1.1865 - categorical_accuracy: 0.5250 - val_loss: 1.1829 - val_categorical_accuracy: 0.5256\n",
            "Epoch 29/30\n",
            "3907/3907 [==============================] - 38s 10ms/step - loss: 1.1862 - categorical_accuracy: 0.5253 - val_loss: 1.1817 - val_categorical_accuracy: 0.5257\n",
            "Epoch 30/30\n",
            "3907/3907 [==============================] - 41s 10ms/step - loss: 1.1860 - categorical_accuracy: 0.5255 - val_loss: 1.1835 - val_categorical_accuracy: 0.5269\n"
          ]
        }
      ]
    },
    {
      "cell_type": "code",
      "source": [],
      "metadata": {
        "id": "MS9F3QY2iU3d"
      },
      "execution_count": null,
      "outputs": []
    },
    {
      "cell_type": "markdown",
      "source": [
        "# BERT"
      ],
      "metadata": {
        "id": "l2-RbtaScg4d"
      }
    },
    {
      "cell_type": "markdown",
      "source": [
        "BERT (Bidirectional Encoder Representations from Transformers) is a pre-trained deep learning model which can be fine-tuned\n",
        "on tasks such as language generation and classification (which is being worked on in this report)\n",
        "\n",
        "The libraries and modules that have been imported at the beginning of the report are implemented here also.\n",
        "\n",
        "The code creates TensorFlow datasets from the preprocessed data and uses the BERT model to classify reviews by rating using \n",
        "a softmax activation function and sparse categorical cross-entropy loss function. \n",
        "\n",
        "The model finally is compiled with an \"adam\" optimizer, a 'sparse_categorical_crossentropy' loss and the \"accuracy\" metrics. \n",
        "It is trained using the training data and evaluated using the validation and testing data."
      ],
      "metadata": {
        "id": "8Czi0dov3aDR"
      }
    },
    {
      "cell_type": "code",
      "execution_count": null,
      "metadata": {
        "colab": {
          "base_uri": "https://localhost:8080/"
        },
        "id": "vyTzlNRB_RSW",
        "outputId": "e5e1f858-f4fe-4aee-9199-2678fb7f4fd0"
      },
      "outputs": [
        {
          "output_type": "stream",
          "name": "stdout",
          "text": [
            "Mounted at /content/drive\n",
            "Looking in indexes: https://pypi.org/simple, https://us-python.pkg.dev/colab-wheels/public/simple/\n",
            "Collecting tensorflow_text\n",
            "  Downloading tensorflow_text-2.12.1-cp39-cp39-manylinux_2_17_x86_64.manylinux2014_x86_64.whl (6.0 MB)\n",
            "\u001b[2K     \u001b[90m━━━━━━━━━━━━━━━━━━━━━━━━━━━━━━━━━━━━━━━━\u001b[0m \u001b[32m6.0/6.0 MB\u001b[0m \u001b[31m51.4 MB/s\u001b[0m eta \u001b[36m0:00:00\u001b[0m\n",
            "\u001b[?25hRequirement already satisfied: tensorflow<2.13,>=2.12.0 in /usr/local/lib/python3.9/dist-packages (from tensorflow_text) (2.12.0)\n",
            "Requirement already satisfied: tensorflow-hub>=0.8.0 in /usr/local/lib/python3.9/dist-packages (from tensorflow_text) (0.13.0)\n",
            "Requirement already satisfied: absl-py>=1.0.0 in /usr/local/lib/python3.9/dist-packages (from tensorflow<2.13,>=2.12.0->tensorflow_text) (1.4.0)\n",
            "Requirement already satisfied: jax>=0.3.15 in /usr/local/lib/python3.9/dist-packages (from tensorflow<2.13,>=2.12.0->tensorflow_text) (0.4.8)\n",
            "Requirement already satisfied: termcolor>=1.1.0 in /usr/local/lib/python3.9/dist-packages (from tensorflow<2.13,>=2.12.0->tensorflow_text) (2.2.0)\n",
            "Requirement already satisfied: grpcio<2.0,>=1.24.3 in /usr/local/lib/python3.9/dist-packages (from tensorflow<2.13,>=2.12.0->tensorflow_text) (1.53.0)\n",
            "Requirement already satisfied: numpy<1.24,>=1.22 in /usr/local/lib/python3.9/dist-packages (from tensorflow<2.13,>=2.12.0->tensorflow_text) (1.22.4)\n",
            "Requirement already satisfied: tensorboard<2.13,>=2.12 in /usr/local/lib/python3.9/dist-packages (from tensorflow<2.13,>=2.12.0->tensorflow_text) (2.12.1)\n",
            "Requirement already satisfied: typing-extensions>=3.6.6 in /usr/local/lib/python3.9/dist-packages (from tensorflow<2.13,>=2.12.0->tensorflow_text) (4.5.0)\n",
            "Requirement already satisfied: wrapt<1.15,>=1.11.0 in /usr/local/lib/python3.9/dist-packages (from tensorflow<2.13,>=2.12.0->tensorflow_text) (1.14.1)\n",
            "Requirement already satisfied: opt-einsum>=2.3.2 in /usr/local/lib/python3.9/dist-packages (from tensorflow<2.13,>=2.12.0->tensorflow_text) (3.3.0)\n",
            "Requirement already satisfied: gast<=0.4.0,>=0.2.1 in /usr/local/lib/python3.9/dist-packages (from tensorflow<2.13,>=2.12.0->tensorflow_text) (0.4.0)\n",
            "Requirement already satisfied: protobuf!=4.21.0,!=4.21.1,!=4.21.2,!=4.21.3,!=4.21.4,!=4.21.5,<5.0.0dev,>=3.20.3 in /usr/local/lib/python3.9/dist-packages (from tensorflow<2.13,>=2.12.0->tensorflow_text) (3.20.3)\n",
            "Requirement already satisfied: h5py>=2.9.0 in /usr/local/lib/python3.9/dist-packages (from tensorflow<2.13,>=2.12.0->tensorflow_text) (3.8.0)\n",
            "Requirement already satisfied: packaging in /usr/local/lib/python3.9/dist-packages (from tensorflow<2.13,>=2.12.0->tensorflow_text) (23.0)\n",
            "Requirement already satisfied: setuptools in /usr/local/lib/python3.9/dist-packages (from tensorflow<2.13,>=2.12.0->tensorflow_text) (67.6.1)\n",
            "Requirement already satisfied: six>=1.12.0 in /usr/local/lib/python3.9/dist-packages (from tensorflow<2.13,>=2.12.0->tensorflow_text) (1.16.0)\n",
            "Requirement already satisfied: tensorflow-io-gcs-filesystem>=0.23.1 in /usr/local/lib/python3.9/dist-packages (from tensorflow<2.13,>=2.12.0->tensorflow_text) (0.32.0)\n",
            "Requirement already satisfied: libclang>=13.0.0 in /usr/local/lib/python3.9/dist-packages (from tensorflow<2.13,>=2.12.0->tensorflow_text) (16.0.0)\n",
            "Requirement already satisfied: google-pasta>=0.1.1 in /usr/local/lib/python3.9/dist-packages (from tensorflow<2.13,>=2.12.0->tensorflow_text) (0.2.0)\n",
            "Requirement already satisfied: astunparse>=1.6.0 in /usr/local/lib/python3.9/dist-packages (from tensorflow<2.13,>=2.12.0->tensorflow_text) (1.6.3)\n",
            "Requirement already satisfied: tensorflow-estimator<2.13,>=2.12.0 in /usr/local/lib/python3.9/dist-packages (from tensorflow<2.13,>=2.12.0->tensorflow_text) (2.12.0)\n",
            "Requirement already satisfied: flatbuffers>=2.0 in /usr/local/lib/python3.9/dist-packages (from tensorflow<2.13,>=2.12.0->tensorflow_text) (23.3.3)\n",
            "Requirement already satisfied: keras<2.13,>=2.12.0 in /usr/local/lib/python3.9/dist-packages (from tensorflow<2.13,>=2.12.0->tensorflow_text) (2.12.0)\n",
            "Requirement already satisfied: wheel<1.0,>=0.23.0 in /usr/local/lib/python3.9/dist-packages (from astunparse>=1.6.0->tensorflow<2.13,>=2.12.0->tensorflow_text) (0.40.0)\n",
            "Requirement already satisfied: ml-dtypes>=0.0.3 in /usr/local/lib/python3.9/dist-packages (from jax>=0.3.15->tensorflow<2.13,>=2.12.0->tensorflow_text) (0.0.4)\n",
            "Requirement already satisfied: scipy>=1.7 in /usr/local/lib/python3.9/dist-packages (from jax>=0.3.15->tensorflow<2.13,>=2.12.0->tensorflow_text) (1.10.1)\n",
            "Requirement already satisfied: google-auth<3,>=1.6.3 in /usr/local/lib/python3.9/dist-packages (from tensorboard<2.13,>=2.12->tensorflow<2.13,>=2.12.0->tensorflow_text) (2.17.2)\n",
            "Requirement already satisfied: tensorboard-plugin-wit>=1.6.0 in /usr/local/lib/python3.9/dist-packages (from tensorboard<2.13,>=2.12->tensorflow<2.13,>=2.12.0->tensorflow_text) (1.8.1)\n",
            "Requirement already satisfied: markdown>=2.6.8 in /usr/local/lib/python3.9/dist-packages (from tensorboard<2.13,>=2.12->tensorflow<2.13,>=2.12.0->tensorflow_text) (3.4.3)\n",
            "Requirement already satisfied: requests<3,>=2.21.0 in /usr/local/lib/python3.9/dist-packages (from tensorboard<2.13,>=2.12->tensorflow<2.13,>=2.12.0->tensorflow_text) (2.27.1)\n",
            "Requirement already satisfied: google-auth-oauthlib<1.1,>=0.5 in /usr/local/lib/python3.9/dist-packages (from tensorboard<2.13,>=2.12->tensorflow<2.13,>=2.12.0->tensorflow_text) (1.0.0)\n",
            "Requirement already satisfied: werkzeug>=1.0.1 in /usr/local/lib/python3.9/dist-packages (from tensorboard<2.13,>=2.12->tensorflow<2.13,>=2.12.0->tensorflow_text) (2.2.3)\n",
            "Requirement already satisfied: tensorboard-data-server<0.8.0,>=0.7.0 in /usr/local/lib/python3.9/dist-packages (from tensorboard<2.13,>=2.12->tensorflow<2.13,>=2.12.0->tensorflow_text) (0.7.0)\n",
            "Requirement already satisfied: rsa<5,>=3.1.4 in /usr/local/lib/python3.9/dist-packages (from google-auth<3,>=1.6.3->tensorboard<2.13,>=2.12->tensorflow<2.13,>=2.12.0->tensorflow_text) (4.9)\n",
            "Requirement already satisfied: cachetools<6.0,>=2.0.0 in /usr/local/lib/python3.9/dist-packages (from google-auth<3,>=1.6.3->tensorboard<2.13,>=2.12->tensorflow<2.13,>=2.12.0->tensorflow_text) (5.3.0)\n",
            "Requirement already satisfied: pyasn1-modules>=0.2.1 in /usr/local/lib/python3.9/dist-packages (from google-auth<3,>=1.6.3->tensorboard<2.13,>=2.12->tensorflow<2.13,>=2.12.0->tensorflow_text) (0.2.8)\n",
            "Requirement already satisfied: requests-oauthlib>=0.7.0 in /usr/local/lib/python3.9/dist-packages (from google-auth-oauthlib<1.1,>=0.5->tensorboard<2.13,>=2.12->tensorflow<2.13,>=2.12.0->tensorflow_text) (1.3.1)\n",
            "Requirement already satisfied: importlib-metadata>=4.4 in /usr/local/lib/python3.9/dist-packages (from markdown>=2.6.8->tensorboard<2.13,>=2.12->tensorflow<2.13,>=2.12.0->tensorflow_text) (6.3.0)\n",
            "Requirement already satisfied: certifi>=2017.4.17 in /usr/local/lib/python3.9/dist-packages (from requests<3,>=2.21.0->tensorboard<2.13,>=2.12->tensorflow<2.13,>=2.12.0->tensorflow_text) (2022.12.7)\n",
            "Requirement already satisfied: idna<4,>=2.5 in /usr/local/lib/python3.9/dist-packages (from requests<3,>=2.21.0->tensorboard<2.13,>=2.12->tensorflow<2.13,>=2.12.0->tensorflow_text) (3.4)\n",
            "Requirement already satisfied: urllib3<1.27,>=1.21.1 in /usr/local/lib/python3.9/dist-packages (from requests<3,>=2.21.0->tensorboard<2.13,>=2.12->tensorflow<2.13,>=2.12.0->tensorflow_text) (1.26.15)\n",
            "Requirement already satisfied: charset-normalizer~=2.0.0 in /usr/local/lib/python3.9/dist-packages (from requests<3,>=2.21.0->tensorboard<2.13,>=2.12->tensorflow<2.13,>=2.12.0->tensorflow_text) (2.0.12)\n",
            "Requirement already satisfied: MarkupSafe>=2.1.1 in /usr/local/lib/python3.9/dist-packages (from werkzeug>=1.0.1->tensorboard<2.13,>=2.12->tensorflow<2.13,>=2.12.0->tensorflow_text) (2.1.2)\n",
            "Requirement already satisfied: zipp>=0.5 in /usr/local/lib/python3.9/dist-packages (from importlib-metadata>=4.4->markdown>=2.6.8->tensorboard<2.13,>=2.12->tensorflow<2.13,>=2.12.0->tensorflow_text) (3.15.0)\n",
            "Requirement already satisfied: pyasn1<0.5.0,>=0.4.6 in /usr/local/lib/python3.9/dist-packages (from pyasn1-modules>=0.2.1->google-auth<3,>=1.6.3->tensorboard<2.13,>=2.12->tensorflow<2.13,>=2.12.0->tensorflow_text) (0.4.8)\n",
            "Requirement already satisfied: oauthlib>=3.0.0 in /usr/local/lib/python3.9/dist-packages (from requests-oauthlib>=0.7.0->google-auth-oauthlib<1.1,>=0.5->tensorboard<2.13,>=2.12->tensorflow<2.13,>=2.12.0->tensorflow_text) (3.2.2)\n",
            "Installing collected packages: tensorflow_text\n",
            "Successfully installed tensorflow_text-2.12.1\n"
          ]
        }
      ],
      "source": [
        "import pandas as pd\n",
        "import numpy as np\n",
        "from sklearn.model_selection import train_test_split\n",
        "\n",
        "from google.colab import drive\n",
        "drive.mount('/content/drive')\n",
        "\n",
        "data = pd.read_csv(\"drive/MyDrive/mydata/my_goodreads_train.csv\")\n",
        "test = pd.read_csv(\"drive/MyDrive/mydata/my_goodreads_test.csv\")\n",
        "\n",
        "data_bert = pd.concat([data.review_text, data.rating], axis=1)\n",
        "data_bert\n",
        "\n",
        "data_df, val_df = train_test_split(data_bert, test_size=0.285714)\n",
        "\n",
        "test_df = test.review_text\n",
        "\n",
        "import re\n",
        "import string\n",
        "def emj_rem(txt):\n",
        "  emj = re.compile(\"[\"\n",
        "                           u\"\\U0001F600-\\U0001F64F\"  # emoticons\n",
        "                           u\"\\U0001F300-\\U0001F5FF\"  # symbols & pictographs\n",
        "                           u\"\\U0001F680-\\U0001F6FF\"  # transport & map symbols\n",
        "                           u\"\\U0001F1E0-\\U0001F1FF\"  # flags (iOS)\n",
        "                           u\"\\U00002702-\\U000027B0\"\n",
        "                           u\"\\U000024C2-\\U0001F251\"\n",
        "                           \"]+\", flags=re.UNICODE)\n",
        "  return emj.sub(r'', txt)\n",
        "\n",
        "def rmvurl(txt): \n",
        "    url  = re.compile('http[s]?://(?:[a-zA-Z]|[0-9]|[$-_@.&+]|[!*\\(\\),]|(?:%[0-9a-fA-F][0-9a-fA-F]))+')\n",
        "    return url.sub(r'', txt)\n",
        "\n",
        "def clean(txt): \n",
        "    del_dic = {sp_character: '' for sp_character in string.punctuation} \n",
        "    del_dic[' '] = ' ' \n",
        "    tab = str.maketrans(del_dic)\n",
        "    txt1 = txt.translate(tab)\n",
        "    txtAr= txt1.split()\n",
        "    text2 = ' '.join([w for w in txtAr if ( not w.isdigit() and  ( not w.isdigit() and len(w)>2))]) \n",
        "    \n",
        "    return text2.lower()\n",
        "\n",
        "\n",
        "test_df = pd.DataFrame(test_df, columns=['review_text'])\n",
        "\n",
        "data_df.review_text = data_df.review_text.apply(emj_rem)\n",
        "data_df.review_text = data_df.review_text.apply(rmvurl)\n",
        "data_df.review_text = data_df.review_text.apply(clean)\n",
        "\n",
        "val_df.review_text = val_df.review_text.apply(emj_rem)\n",
        "val_df.review_text = val_df.review_text.apply(rmvurl)\n",
        "val_df.review_text = val_df.review_text.apply(clean)\n",
        "\n",
        "test_df.review_text = test_df.review_text.apply(emj_rem)\n",
        "test_df.review_text = test_df.review_text.apply(rmvurl)\n",
        "test_df.review_text = test_df.review_text.apply(clean)\n",
        "\n",
        "import tensorflow as tf\n",
        "\n",
        "batch_size = 32\n",
        "\n",
        "# create TensorFlow datasets from the Pandas dataframes\n",
        "data_ds = tf.data.Dataset.from_tensor_slices((data_df[['review_text', 'rating']].to_dict('list')))\n",
        "val_ds = tf.data.Dataset.from_tensor_slices((val_df[['review_text', 'rating']].to_dict('list')))\n",
        "test_ds = tf.data.Dataset.from_tensor_slices((test_df[['review_text']].to_dict('list')))\n",
        "\n",
        "# shuffle and batch the datasets\n",
        "data_ds = data_ds.shuffle(len(data_df))\n",
        "data_ds = data_ds.batch(batch_size)\n",
        "data_ds = data_ds.map(lambda x: ({'text': x['review_text']}, x['rating']))\n",
        "\n",
        "val_ds = val_ds.batch(batch_size)\n",
        "val_ds = val_ds.map(lambda x: ({'text': x['review_text']}, x['rating']))\n",
        "\n",
        "test_ds = test_ds.batch(batch_size)\n",
        "test_ds = test_ds.map(lambda x: ({'text': x['review_text']}))\n",
        "\n",
        "\n",
        "\n",
        "# import tensorflow_hub as hub\n",
        "# !pip install tensorflow_text\n",
        "# import tensorflow_text as text\n",
        "\n",
        "# text_input = tf.keras.layers.Input(shape=(), dtype=tf.string, name='text')\n",
        "# bert_preprocess_model = hub.KerasLayer('https://tfhub.dev/tensorflow/bert_en_uncased_preprocess/3', name='preprocessing')\n",
        "# encoder_inputs = bert_preprocess_model(text_input)\n",
        "# bert_model = hub.KerasLayer('https://tfhub.dev/tensorflow/small_bert/bert_en_uncased_L-4_H-512_A-8/1', trainable=True, name='BERT_encoder')\n",
        "# outputs = bert_model(encoder_inputs)\n",
        "# net = outputs['pooled_output']\n",
        "# net = tf.keras.layers.Dropout(0.1)(net)\n",
        "# net = tf.keras.layers.Dense(6, activation='softmax', name='classifier')(net)\n",
        "# model = tf.keras.Model(text_input, net)\n",
        "# model.summary()\n",
        "\n",
        "\n",
        "\n",
        "###\n",
        "\n",
        "\n",
        "import tensorflow as tf\n",
        "import tensorflow_hub as hub\n",
        "!pip install tensorflow_text\n",
        "import tensorflow_text as text\n",
        "\n",
        "\n",
        "# define the input layer\n",
        "text_input = tf.keras.layers.Input(shape=(), dtype=tf.string, name='text')\n",
        "\n",
        "# define the preprocessing layer using BERT\n",
        "bert_preprocess_model = hub.KerasLayer('https://tfhub.dev/tensorflow/bert_en_uncased_preprocess/3', name='preprocessing')\n",
        "encoder_inputs = bert_preprocess_model(text_input)\n",
        "\n",
        "# define the BERT layer\n",
        "bert_model = hub.KerasLayer('https://tfhub.dev/tensorflow/small_bert/bert_en_uncased_L-4_H-512_A-8/1', trainable=True, name='BERT_encoder')\n",
        "outputs = bert_model(encoder_inputs)\n",
        "\n",
        "# add dropout layer\n",
        "net = outputs['pooled_output']\n",
        "net = tf.keras.layers.Dropout(0.1)(net)\n",
        "\n",
        "# define the output layer\n",
        "output = tf.keras.layers.Dense(6, activation='softmax', name='output')(net)\n",
        "\n",
        "# define the model\n",
        "model = tf.keras.Model(inputs=text_input, outputs=output)\n",
        "\n",
        "# compile the model\n",
        "model.compile(optimizer='adam',\n",
        "              loss='sparse_categorical_crossentropy',\n",
        "              metrics=['accuracy'])\n"
      ]
    },
    {
      "cell_type": "code",
      "source": [
        "model.fit(x=data_ds, validation_data=val_ds, epochs=5)"
      ],
      "metadata": {
        "colab": {
          "base_uri": "https://localhost:8080/"
        },
        "id": "5jDMzrvK_2aH",
        "outputId": "fa30f220-075e-4a1c-a552-1abcca7ccb93"
      },
      "execution_count": null,
      "outputs": [
        {
          "output_type": "stream",
          "name": "stdout",
          "text": [
            "Epoch 1/5\n",
            "15625/15625 [==============================] - 4423s 281ms/step - loss: 1.4683 - accuracy: 0.3316 - val_loss: 1.4395 - val_accuracy: 0.3482\n",
            "Epoch 2/5\n",
            "15625/15625 [==============================] - 4296s 275ms/step - loss: 1.4422 - accuracy: 0.3443 - val_loss: 1.4397 - val_accuracy: 0.3482\n",
            "Epoch 3/5\n",
            "15625/15625 [==============================] - 4285s 274ms/step - loss: 1.4394 - accuracy: 0.3467 - val_loss: 1.4632 - val_accuracy: 0.2943\n",
            "Epoch 4/5\n",
            "15625/15625 [==============================] - 4279s 274ms/step - loss: 1.4378 - accuracy: 0.3473 - val_loss: 1.4692 - val_accuracy: 0.2943\n",
            "Epoch 5/5\n",
            "15625/15625 [==============================] - 4240s 271ms/step - loss: 1.4370 - accuracy: 0.3477 - val_loss: 1.4511 - val_accuracy: 0.3482\n"
          ]
        },
        {
          "output_type": "execute_result",
          "data": {
            "text/plain": [
              "<keras.callbacks.History at 0x7f3b66ffc700>"
            ]
          },
          "metadata": {},
          "execution_count": 3
        }
      ]
    },
    {
      "cell_type": "markdown",
      "source": [
        "For BERT, it took about 5 hours to run just 5 iterations which was still about 35% accuracy\n",
        "\n",
        "It is a very large and complex model that requires significant computational resources to train which might also require high-end hardware to utilize and mazimize its efficiency."
      ],
      "metadata": {
        "id": "pOFCaz_2TuZ0"
      }
    }
  ]
}